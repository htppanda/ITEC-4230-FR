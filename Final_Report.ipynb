{
 "cells": [
  {
   "cell_type": "code",
   "execution_count": 1,
   "id": "7ff1c9a0",
   "metadata": {},
   "outputs": [],
   "source": [
    "import numpy as np \n",
    "import pandas as pd \n",
    "import seaborn as sns\n",
    "import warnings\n",
    "warnings.filterwarnings(\"ignore\")\n",
    "import plotly.offline as py\n",
    "import plotly.graph_objs as go\n",
    "import plotly.tools as tls\n",
    "import matplotlib.pyplot as plt\n",
    "%matplotlib inline"
   ]
  },
  {
   "cell_type": "code",
   "execution_count": 2,
   "id": "6266fd54",
   "metadata": {},
   "outputs": [
    {
     "name": "stdout",
     "output_type": "stream",
     "text": [
      "Requirement already satisfied: imblearn in c:\\users\\ryan\\anaconda3\\lib\\site-packages (0.0)\n",
      "Requirement already satisfied: imbalanced-learn in c:\\users\\ryan\\anaconda3\\lib\\site-packages (from imblearn) (0.8.0)\n",
      "Requirement already satisfied: scipy>=0.19.1 in c:\\users\\ryan\\anaconda3\\lib\\site-packages (from imbalanced-learn->imblearn) (1.6.2)\n",
      "Requirement already satisfied: scikit-learn>=0.24 in c:\\users\\ryan\\anaconda3\\lib\\site-packages (from imbalanced-learn->imblearn) (0.24.1)\n",
      "Requirement already satisfied: joblib>=0.11 in c:\\users\\ryan\\anaconda3\\lib\\site-packages (from imbalanced-learn->imblearn) (1.0.1)\n",
      "Requirement already satisfied: numpy>=1.13.3 in c:\\users\\ryan\\anaconda3\\lib\\site-packages (from imbalanced-learn->imblearn) (1.20.1)\n",
      "Requirement already satisfied: threadpoolctl>=2.0.0 in c:\\users\\ryan\\anaconda3\\lib\\site-packages (from scikit-learn>=0.24->imbalanced-learn->imblearn) (2.1.0)\n"
     ]
    }
   ],
   "source": [
    "!pip install imblearn"
   ]
  },
  {
   "cell_type": "code",
   "execution_count": 3,
   "id": "af1a0cee",
   "metadata": {},
   "outputs": [],
   "source": [
    "from sklearn.model_selection import train_test_split,cross_val_score,GridSearchCV\n",
    "from sklearn.linear_model import LogisticRegression\n",
    "from sklearn.tree import DecisionTreeClassifier\n",
    "from sklearn.svm import SVC\n",
    "from sklearn.neighbors import KNeighborsClassifier\n",
    "from sklearn.ensemble import RandomForestClassifier,AdaBoostClassifier,BaggingClassifier,ExtraTreesClassifier\n",
    "from sklearn.naive_bayes import GaussianNB\n",
    "from sklearn.discriminant_analysis import LinearDiscriminantAnalysis\n",
    "from sklearn.ensemble import AdaBoostClassifier\n",
    "from sklearn.ensemble import GradientBoostingClassifier\n",
    "from sklearn.ensemble import RandomForestClassifier\n",
    "from sklearn.ensemble import ExtraTreesClassifier\n",
    "from sklearn.metrics import accuracy_score,confusion_matrix,roc_auc_score\n",
    "from sklearn import metrics\n",
    "from datetime import datetime\n",
    "from sklearn.feature_selection import RFE\n",
    "from sklearn.model_selection import StratifiedKFold"
   ]
  },
  {
   "cell_type": "code",
   "execution_count": 4,
   "id": "263f720d",
   "metadata": {},
   "outputs": [
    {
     "data": {
      "text/html": [
       "<div>\n",
       "<style scoped>\n",
       "    .dataframe tbody tr th:only-of-type {\n",
       "        vertical-align: middle;\n",
       "    }\n",
       "\n",
       "    .dataframe tbody tr th {\n",
       "        vertical-align: top;\n",
       "    }\n",
       "\n",
       "    .dataframe thead th {\n",
       "        text-align: right;\n",
       "    }\n",
       "</style>\n",
       "<table border=\"1\" class=\"dataframe\">\n",
       "  <thead>\n",
       "    <tr style=\"text-align: right;\">\n",
       "      <th></th>\n",
       "      <th>Age</th>\n",
       "      <th>Workclass</th>\n",
       "      <th>fnlwgt</th>\n",
       "      <th>education</th>\n",
       "      <th>education-num</th>\n",
       "      <th>marital-status</th>\n",
       "      <th>occupation</th>\n",
       "      <th>relationship</th>\n",
       "      <th>race</th>\n",
       "      <th>sex</th>\n",
       "      <th>capital-gain</th>\n",
       "      <th>capital-loss</th>\n",
       "      <th>hours-per-week</th>\n",
       "      <th>native-country</th>\n",
       "      <th>income</th>\n",
       "    </tr>\n",
       "  </thead>\n",
       "  <tbody>\n",
       "    <tr>\n",
       "      <th>0</th>\n",
       "      <td>39</td>\n",
       "      <td>State-gov</td>\n",
       "      <td>77516</td>\n",
       "      <td>Bachelors</td>\n",
       "      <td>13</td>\n",
       "      <td>Never-married</td>\n",
       "      <td>Adm-clerical</td>\n",
       "      <td>Not-in-family</td>\n",
       "      <td>White</td>\n",
       "      <td>Male</td>\n",
       "      <td>2174</td>\n",
       "      <td>0</td>\n",
       "      <td>40</td>\n",
       "      <td>United-States</td>\n",
       "      <td>&lt;=50K</td>\n",
       "    </tr>\n",
       "    <tr>\n",
       "      <th>1</th>\n",
       "      <td>50</td>\n",
       "      <td>Self-emp-not-inc</td>\n",
       "      <td>83311</td>\n",
       "      <td>Bachelors</td>\n",
       "      <td>13</td>\n",
       "      <td>Married-civ-spouse</td>\n",
       "      <td>Exec-managerial</td>\n",
       "      <td>Husband</td>\n",
       "      <td>White</td>\n",
       "      <td>Male</td>\n",
       "      <td>0</td>\n",
       "      <td>0</td>\n",
       "      <td>13</td>\n",
       "      <td>United-States</td>\n",
       "      <td>&lt;=50K</td>\n",
       "    </tr>\n",
       "    <tr>\n",
       "      <th>2</th>\n",
       "      <td>38</td>\n",
       "      <td>Private</td>\n",
       "      <td>215646</td>\n",
       "      <td>HS-grad</td>\n",
       "      <td>9</td>\n",
       "      <td>Divorced</td>\n",
       "      <td>Handlers-cleaners</td>\n",
       "      <td>Not-in-family</td>\n",
       "      <td>White</td>\n",
       "      <td>Male</td>\n",
       "      <td>0</td>\n",
       "      <td>0</td>\n",
       "      <td>40</td>\n",
       "      <td>United-States</td>\n",
       "      <td>&lt;=50K</td>\n",
       "    </tr>\n",
       "    <tr>\n",
       "      <th>3</th>\n",
       "      <td>53</td>\n",
       "      <td>Private</td>\n",
       "      <td>234721</td>\n",
       "      <td>11th</td>\n",
       "      <td>7</td>\n",
       "      <td>Married-civ-spouse</td>\n",
       "      <td>Handlers-cleaners</td>\n",
       "      <td>Husband</td>\n",
       "      <td>Black</td>\n",
       "      <td>Male</td>\n",
       "      <td>0</td>\n",
       "      <td>0</td>\n",
       "      <td>40</td>\n",
       "      <td>United-States</td>\n",
       "      <td>&lt;=50K</td>\n",
       "    </tr>\n",
       "    <tr>\n",
       "      <th>4</th>\n",
       "      <td>28</td>\n",
       "      <td>Private</td>\n",
       "      <td>338409</td>\n",
       "      <td>Bachelors</td>\n",
       "      <td>13</td>\n",
       "      <td>Married-civ-spouse</td>\n",
       "      <td>Prof-specialty</td>\n",
       "      <td>Wife</td>\n",
       "      <td>Black</td>\n",
       "      <td>Female</td>\n",
       "      <td>0</td>\n",
       "      <td>0</td>\n",
       "      <td>40</td>\n",
       "      <td>Cuba</td>\n",
       "      <td>&lt;=50K</td>\n",
       "    </tr>\n",
       "  </tbody>\n",
       "</table>\n",
       "</div>"
      ],
      "text/plain": [
       "   Age          Workclass  fnlwgt   education  education-num  \\\n",
       "0   39          State-gov   77516   Bachelors             13   \n",
       "1   50   Self-emp-not-inc   83311   Bachelors             13   \n",
       "2   38            Private  215646     HS-grad              9   \n",
       "3   53            Private  234721        11th              7   \n",
       "4   28            Private  338409   Bachelors             13   \n",
       "\n",
       "        marital-status          occupation    relationship    race      sex  \\\n",
       "0        Never-married        Adm-clerical   Not-in-family   White     Male   \n",
       "1   Married-civ-spouse     Exec-managerial         Husband   White     Male   \n",
       "2             Divorced   Handlers-cleaners   Not-in-family   White     Male   \n",
       "3   Married-civ-spouse   Handlers-cleaners         Husband   Black     Male   \n",
       "4   Married-civ-spouse      Prof-specialty            Wife   Black   Female   \n",
       "\n",
       "   capital-gain  capital-loss  hours-per-week  native-country  income  \n",
       "0          2174             0              40   United-States   <=50K  \n",
       "1             0             0              13   United-States   <=50K  \n",
       "2             0             0              40   United-States   <=50K  \n",
       "3             0             0              40   United-States   <=50K  \n",
       "4             0             0              40            Cuba   <=50K  "
      ]
     },
     "execution_count": 4,
     "metadata": {},
     "output_type": "execute_result"
    }
   ],
   "source": [
    "data = pd.read_csv(\"AdultCensus.csv\")\n",
    "data.head()"
   ]
  },
  {
   "cell_type": "code",
   "execution_count": 5,
   "id": "4efdbfa5",
   "metadata": {},
   "outputs": [],
   "source": [
    "var, counts=np.unique(data['Workclass'], return_counts=True)\n",
    "most_freq_var = var[np.argmax(counts, axis = 0)]\n",
    "data['Workclass'][data['Workclass'] == '?'] = most_freq_var "
   ]
  },
  {
   "cell_type": "code",
   "execution_count": 6,
   "id": "02c6438e",
   "metadata": {},
   "outputs": [],
   "source": [
    "var, counts=np.unique(data['Workclass'], return_counts=True)\n",
    "most_freq_var = var[np.argmax(counts, axis = 0)]\n",
    "data['Workclass'][data['Workclass'] == '?'] = most_freq_var "
   ]
  },
  {
   "cell_type": "code",
   "execution_count": 7,
   "id": "235b8951",
   "metadata": {},
   "outputs": [],
   "source": [
    "var, counts=np.unique(data['occupation'], return_counts=True)\n",
    "most_freq_var = var[np.argmax(counts, axis = 0)]\n",
    "data['occupation'][data['occupation'] == '?'] = most_freq_var "
   ]
  },
  {
   "cell_type": "code",
   "execution_count": 8,
   "id": "a0b043e3",
   "metadata": {},
   "outputs": [],
   "source": [
    "var, counts=np.unique(data['native-country'], return_counts=True)\n",
    "most_freq_var = var[np.argmax(counts, axis = 0)]\n",
    "data['native-country'][data['native-country'] == '?'] = most_freq_var "
   ]
  },
  {
   "cell_type": "code",
   "execution_count": 9,
   "id": "f0066bf9",
   "metadata": {},
   "outputs": [
    {
     "data": {
      "text/html": [
       "<div>\n",
       "<style scoped>\n",
       "    .dataframe tbody tr th:only-of-type {\n",
       "        vertical-align: middle;\n",
       "    }\n",
       "\n",
       "    .dataframe tbody tr th {\n",
       "        vertical-align: top;\n",
       "    }\n",
       "\n",
       "    .dataframe thead th {\n",
       "        text-align: right;\n",
       "    }\n",
       "</style>\n",
       "<table border=\"1\" class=\"dataframe\">\n",
       "  <thead>\n",
       "    <tr style=\"text-align: right;\">\n",
       "      <th></th>\n",
       "      <th>Age</th>\n",
       "      <th>Workclass</th>\n",
       "      <th>fnlwgt</th>\n",
       "      <th>education</th>\n",
       "      <th>education-num</th>\n",
       "      <th>marital-status</th>\n",
       "      <th>occupation</th>\n",
       "      <th>relationship</th>\n",
       "      <th>race</th>\n",
       "      <th>sex</th>\n",
       "      <th>capital-gain</th>\n",
       "      <th>capital-loss</th>\n",
       "      <th>hours-per-week</th>\n",
       "      <th>native-country</th>\n",
       "      <th>income</th>\n",
       "    </tr>\n",
       "  </thead>\n",
       "  <tbody>\n",
       "    <tr>\n",
       "      <th>0</th>\n",
       "      <td>39</td>\n",
       "      <td>State-gov</td>\n",
       "      <td>77516</td>\n",
       "      <td>Bachelors</td>\n",
       "      <td>13</td>\n",
       "      <td>Never-married</td>\n",
       "      <td>Adm-clerical</td>\n",
       "      <td>Not-in-family</td>\n",
       "      <td>White</td>\n",
       "      <td>Male</td>\n",
       "      <td>2174</td>\n",
       "      <td>0</td>\n",
       "      <td>40</td>\n",
       "      <td>United-States</td>\n",
       "      <td>&lt;=50K</td>\n",
       "    </tr>\n",
       "    <tr>\n",
       "      <th>1</th>\n",
       "      <td>50</td>\n",
       "      <td>Self-emp-not-inc</td>\n",
       "      <td>83311</td>\n",
       "      <td>Bachelors</td>\n",
       "      <td>13</td>\n",
       "      <td>Married-civ-spouse</td>\n",
       "      <td>Exec-managerial</td>\n",
       "      <td>Husband</td>\n",
       "      <td>White</td>\n",
       "      <td>Male</td>\n",
       "      <td>0</td>\n",
       "      <td>0</td>\n",
       "      <td>13</td>\n",
       "      <td>United-States</td>\n",
       "      <td>&lt;=50K</td>\n",
       "    </tr>\n",
       "    <tr>\n",
       "      <th>2</th>\n",
       "      <td>38</td>\n",
       "      <td>Private</td>\n",
       "      <td>215646</td>\n",
       "      <td>HS-grad</td>\n",
       "      <td>9</td>\n",
       "      <td>Divorced</td>\n",
       "      <td>Handlers-cleaners</td>\n",
       "      <td>Not-in-family</td>\n",
       "      <td>White</td>\n",
       "      <td>Male</td>\n",
       "      <td>0</td>\n",
       "      <td>0</td>\n",
       "      <td>40</td>\n",
       "      <td>United-States</td>\n",
       "      <td>&lt;=50K</td>\n",
       "    </tr>\n",
       "    <tr>\n",
       "      <th>3</th>\n",
       "      <td>53</td>\n",
       "      <td>Private</td>\n",
       "      <td>234721</td>\n",
       "      <td>11th</td>\n",
       "      <td>7</td>\n",
       "      <td>Married-civ-spouse</td>\n",
       "      <td>Handlers-cleaners</td>\n",
       "      <td>Husband</td>\n",
       "      <td>Black</td>\n",
       "      <td>Male</td>\n",
       "      <td>0</td>\n",
       "      <td>0</td>\n",
       "      <td>40</td>\n",
       "      <td>United-States</td>\n",
       "      <td>&lt;=50K</td>\n",
       "    </tr>\n",
       "    <tr>\n",
       "      <th>4</th>\n",
       "      <td>28</td>\n",
       "      <td>Private</td>\n",
       "      <td>338409</td>\n",
       "      <td>Bachelors</td>\n",
       "      <td>13</td>\n",
       "      <td>Married-civ-spouse</td>\n",
       "      <td>Prof-specialty</td>\n",
       "      <td>Wife</td>\n",
       "      <td>Black</td>\n",
       "      <td>Female</td>\n",
       "      <td>0</td>\n",
       "      <td>0</td>\n",
       "      <td>40</td>\n",
       "      <td>Cuba</td>\n",
       "      <td>&lt;=50K</td>\n",
       "    </tr>\n",
       "    <tr>\n",
       "      <th>...</th>\n",
       "      <td>...</td>\n",
       "      <td>...</td>\n",
       "      <td>...</td>\n",
       "      <td>...</td>\n",
       "      <td>...</td>\n",
       "      <td>...</td>\n",
       "      <td>...</td>\n",
       "      <td>...</td>\n",
       "      <td>...</td>\n",
       "      <td>...</td>\n",
       "      <td>...</td>\n",
       "      <td>...</td>\n",
       "      <td>...</td>\n",
       "      <td>...</td>\n",
       "      <td>...</td>\n",
       "    </tr>\n",
       "    <tr>\n",
       "      <th>95</th>\n",
       "      <td>29</td>\n",
       "      <td>Local-gov</td>\n",
       "      <td>115585</td>\n",
       "      <td>Some-college</td>\n",
       "      <td>10</td>\n",
       "      <td>Never-married</td>\n",
       "      <td>Handlers-cleaners</td>\n",
       "      <td>Not-in-family</td>\n",
       "      <td>White</td>\n",
       "      <td>Male</td>\n",
       "      <td>0</td>\n",
       "      <td>0</td>\n",
       "      <td>50</td>\n",
       "      <td>United-States</td>\n",
       "      <td>&lt;=50K</td>\n",
       "    </tr>\n",
       "    <tr>\n",
       "      <th>96</th>\n",
       "      <td>48</td>\n",
       "      <td>Self-emp-not-inc</td>\n",
       "      <td>191277</td>\n",
       "      <td>Doctorate</td>\n",
       "      <td>16</td>\n",
       "      <td>Married-civ-spouse</td>\n",
       "      <td>Prof-specialty</td>\n",
       "      <td>Husband</td>\n",
       "      <td>White</td>\n",
       "      <td>Male</td>\n",
       "      <td>0</td>\n",
       "      <td>1902</td>\n",
       "      <td>60</td>\n",
       "      <td>United-States</td>\n",
       "      <td>&gt;50K</td>\n",
       "    </tr>\n",
       "    <tr>\n",
       "      <th>97</th>\n",
       "      <td>37</td>\n",
       "      <td>Private</td>\n",
       "      <td>202683</td>\n",
       "      <td>Some-college</td>\n",
       "      <td>10</td>\n",
       "      <td>Married-civ-spouse</td>\n",
       "      <td>Sales</td>\n",
       "      <td>Husband</td>\n",
       "      <td>White</td>\n",
       "      <td>Male</td>\n",
       "      <td>0</td>\n",
       "      <td>0</td>\n",
       "      <td>48</td>\n",
       "      <td>United-States</td>\n",
       "      <td>&gt;50K</td>\n",
       "    </tr>\n",
       "    <tr>\n",
       "      <th>98</th>\n",
       "      <td>48</td>\n",
       "      <td>Private</td>\n",
       "      <td>171095</td>\n",
       "      <td>Assoc-acdm</td>\n",
       "      <td>12</td>\n",
       "      <td>Divorced</td>\n",
       "      <td>Exec-managerial</td>\n",
       "      <td>Unmarried</td>\n",
       "      <td>White</td>\n",
       "      <td>Female</td>\n",
       "      <td>0</td>\n",
       "      <td>0</td>\n",
       "      <td>40</td>\n",
       "      <td>England</td>\n",
       "      <td>&lt;=50K</td>\n",
       "    </tr>\n",
       "    <tr>\n",
       "      <th>99</th>\n",
       "      <td>32</td>\n",
       "      <td>Federal-gov</td>\n",
       "      <td>249409</td>\n",
       "      <td>HS-grad</td>\n",
       "      <td>9</td>\n",
       "      <td>Never-married</td>\n",
       "      <td>Other-service</td>\n",
       "      <td>Own-child</td>\n",
       "      <td>Black</td>\n",
       "      <td>Male</td>\n",
       "      <td>0</td>\n",
       "      <td>0</td>\n",
       "      <td>40</td>\n",
       "      <td>United-States</td>\n",
       "      <td>&lt;=50K</td>\n",
       "    </tr>\n",
       "  </tbody>\n",
       "</table>\n",
       "<p>100 rows × 15 columns</p>\n",
       "</div>"
      ],
      "text/plain": [
       "    Age          Workclass  fnlwgt      education  education-num  \\\n",
       "0    39          State-gov   77516      Bachelors             13   \n",
       "1    50   Self-emp-not-inc   83311      Bachelors             13   \n",
       "2    38            Private  215646        HS-grad              9   \n",
       "3    53            Private  234721           11th              7   \n",
       "4    28            Private  338409      Bachelors             13   \n",
       "..  ...                ...     ...            ...            ...   \n",
       "95   29          Local-gov  115585   Some-college             10   \n",
       "96   48   Self-emp-not-inc  191277      Doctorate             16   \n",
       "97   37            Private  202683   Some-college             10   \n",
       "98   48            Private  171095     Assoc-acdm             12   \n",
       "99   32        Federal-gov  249409        HS-grad              9   \n",
       "\n",
       "         marital-status          occupation    relationship    race      sex  \\\n",
       "0         Never-married        Adm-clerical   Not-in-family   White     Male   \n",
       "1    Married-civ-spouse     Exec-managerial         Husband   White     Male   \n",
       "2              Divorced   Handlers-cleaners   Not-in-family   White     Male   \n",
       "3    Married-civ-spouse   Handlers-cleaners         Husband   Black     Male   \n",
       "4    Married-civ-spouse      Prof-specialty            Wife   Black   Female   \n",
       "..                  ...                 ...             ...     ...      ...   \n",
       "95        Never-married   Handlers-cleaners   Not-in-family   White     Male   \n",
       "96   Married-civ-spouse      Prof-specialty         Husband   White     Male   \n",
       "97   Married-civ-spouse               Sales         Husband   White     Male   \n",
       "98             Divorced     Exec-managerial       Unmarried   White   Female   \n",
       "99        Never-married       Other-service       Own-child   Black     Male   \n",
       "\n",
       "    capital-gain  capital-loss  hours-per-week  native-country  income  \n",
       "0           2174             0              40   United-States   <=50K  \n",
       "1              0             0              13   United-States   <=50K  \n",
       "2              0             0              40   United-States   <=50K  \n",
       "3              0             0              40   United-States   <=50K  \n",
       "4              0             0              40            Cuba   <=50K  \n",
       "..           ...           ...             ...             ...     ...  \n",
       "95             0             0              50   United-States   <=50K  \n",
       "96             0          1902              60   United-States    >50K  \n",
       "97             0             0              48   United-States    >50K  \n",
       "98             0             0              40         England   <=50K  \n",
       "99             0             0              40   United-States   <=50K  \n",
       "\n",
       "[100 rows x 15 columns]"
      ]
     },
     "execution_count": 9,
     "metadata": {},
     "output_type": "execute_result"
    }
   ],
   "source": [
    "data.head(100)"
   ]
  },
  {
   "cell_type": "code",
   "execution_count": 10,
   "id": "4df7d41a",
   "metadata": {},
   "outputs": [],
   "source": [
    "HighSchool_Grad = [' HS-grad',' 12th',' 11th',' 10th',' 9th']\n",
    "Elementary = [' 1st-4th',' 5th-6th',' 7th-8th']"
   ]
  },
  {
   "cell_type": "code",
   "execution_count": 11,
   "id": "71f890e0",
   "metadata": {},
   "outputs": [
    {
     "data": {
      "text/plain": [
       "HighSchool-Grad      13556\n",
       " Some-college         7291\n",
       " Bachelors            5355\n",
       " Masters              1723\n",
       " Assoc-voc            1382\n",
       "elementary_school     1147\n",
       " Assoc-acdm           1067\n",
       " Prof-school           576\n",
       " Doctorate             413\n",
       " Preschool              51\n",
       "Name: education, dtype: int64"
      ]
     },
     "execution_count": 11,
     "metadata": {},
     "output_type": "execute_result"
    }
   ],
   "source": [
    "data['education'].replace(to_replace = HighSchool_Grad,value = 'HighSchool-Grad',inplace = True)\n",
    "data['education'].replace(to_replace = Elementary,value = 'elementary_school',inplace = True)\n",
    "\n",
    "data['education'].value_counts()"
   ]
  },
  {
   "cell_type": "code",
   "execution_count": 12,
   "id": "62ea3e95",
   "metadata": {},
   "outputs": [
    {
     "data": {
      "text/plain": [
       "Married           15417\n",
       " Never-married    10683\n",
       "Separated          5468\n",
       " Widowed            993\n",
       "Name: marital-status, dtype: int64"
      ]
     },
     "execution_count": 12,
     "metadata": {},
     "output_type": "execute_result"
    }
   ],
   "source": [
    "married= [' Married-spouse-absent',' Married-civ-spouse',' Married-AF-spouse']\n",
    "separated = [' Separated',' Divorced']\n",
    "\n",
    "#replace elements in list.\n",
    "data['marital-status'].replace(to_replace = married ,value = 'Married',inplace = True)\n",
    "data['marital-status'].replace(to_replace = separated,value = 'Separated',inplace = True)\n",
    "\n",
    "data['marital-status'].value_counts()"
   ]
  },
  {
   "cell_type": "code",
   "execution_count": 13,
   "id": "a8e87c95",
   "metadata": {},
   "outputs": [
    {
     "data": {
      "text/plain": [
       " Private          22696\n",
       "Govt_employees     4351\n",
       "Self_employed      3657\n",
       " ?                 1836\n",
       " Without-pay         14\n",
       " Never-worked         7\n",
       "Name: Workclass, dtype: int64"
      ]
     },
     "execution_count": 13,
     "metadata": {},
     "output_type": "execute_result"
    }
   ],
   "source": [
    "self_employed = [' Self-emp-not-inc',' Self-emp-inc']\n",
    "govt_employees = [' Local-gov',' State-gov',' Federal-gov']\n",
    "\n",
    "#replace elements in list.\n",
    "data['Workclass'].replace(to_replace = self_employed ,value = 'Self_employed',inplace = True)\n",
    "data['Workclass'].replace(to_replace = govt_employees,value = 'Govt_employees',inplace = True)\n",
    "\n",
    "data['Workclass'].value_counts()"
   ]
  },
  {
   "cell_type": "code",
   "execution_count": 14,
   "id": "f0366e1d",
   "metadata": {},
   "outputs": [],
   "source": [
    "del_cols = ['education-num']\n",
    "data.drop(labels = del_cols,axis = 1,inplace = True)"
   ]
  },
  {
   "cell_type": "code",
   "execution_count": 15,
   "id": "198b2ef1",
   "metadata": {},
   "outputs": [],
   "source": [
    "num_col_new = ['Age','capital-gain', 'capital-loss',\n",
    "       'hours-per-week','fnlwgt']\n",
    "cat_col_new = ['Workclass', 'education', 'marital-status', 'occupation','relationship',\n",
    "               'race', 'sex', 'income']"
   ]
  },
  {
   "cell_type": "code",
   "execution_count": 16,
   "id": "a59e5263",
   "metadata": {},
   "outputs": [
    {
     "data": {
      "text/html": [
       "<div>\n",
       "<style scoped>\n",
       "    .dataframe tbody tr th:only-of-type {\n",
       "        vertical-align: middle;\n",
       "    }\n",
       "\n",
       "    .dataframe tbody tr th {\n",
       "        vertical-align: top;\n",
       "    }\n",
       "\n",
       "    .dataframe thead th {\n",
       "        text-align: right;\n",
       "    }\n",
       "</style>\n",
       "<table border=\"1\" class=\"dataframe\">\n",
       "  <thead>\n",
       "    <tr style=\"text-align: right;\">\n",
       "      <th></th>\n",
       "      <th>Age</th>\n",
       "      <th>Workclass</th>\n",
       "      <th>fnlwgt</th>\n",
       "      <th>education</th>\n",
       "      <th>marital-status</th>\n",
       "      <th>occupation</th>\n",
       "      <th>relationship</th>\n",
       "      <th>race</th>\n",
       "      <th>sex</th>\n",
       "      <th>capital-gain</th>\n",
       "      <th>capital-loss</th>\n",
       "      <th>hours-per-week</th>\n",
       "      <th>native-country</th>\n",
       "      <th>income</th>\n",
       "    </tr>\n",
       "  </thead>\n",
       "  <tbody>\n",
       "    <tr>\n",
       "      <th>0</th>\n",
       "      <td>39</td>\n",
       "      <td>Govt_employees</td>\n",
       "      <td>77516</td>\n",
       "      <td>Bachelors</td>\n",
       "      <td>Never-married</td>\n",
       "      <td>Adm-clerical</td>\n",
       "      <td>Not-in-family</td>\n",
       "      <td>White</td>\n",
       "      <td>Male</td>\n",
       "      <td>2174</td>\n",
       "      <td>0</td>\n",
       "      <td>40</td>\n",
       "      <td>United-States</td>\n",
       "      <td>&lt;=50K</td>\n",
       "    </tr>\n",
       "    <tr>\n",
       "      <th>1</th>\n",
       "      <td>50</td>\n",
       "      <td>Self_employed</td>\n",
       "      <td>83311</td>\n",
       "      <td>Bachelors</td>\n",
       "      <td>Married</td>\n",
       "      <td>Exec-managerial</td>\n",
       "      <td>Husband</td>\n",
       "      <td>White</td>\n",
       "      <td>Male</td>\n",
       "      <td>0</td>\n",
       "      <td>0</td>\n",
       "      <td>13</td>\n",
       "      <td>United-States</td>\n",
       "      <td>&lt;=50K</td>\n",
       "    </tr>\n",
       "    <tr>\n",
       "      <th>2</th>\n",
       "      <td>38</td>\n",
       "      <td>Private</td>\n",
       "      <td>215646</td>\n",
       "      <td>HighSchool-Grad</td>\n",
       "      <td>Separated</td>\n",
       "      <td>Handlers-cleaners</td>\n",
       "      <td>Not-in-family</td>\n",
       "      <td>White</td>\n",
       "      <td>Male</td>\n",
       "      <td>0</td>\n",
       "      <td>0</td>\n",
       "      <td>40</td>\n",
       "      <td>United-States</td>\n",
       "      <td>&lt;=50K</td>\n",
       "    </tr>\n",
       "    <tr>\n",
       "      <th>3</th>\n",
       "      <td>53</td>\n",
       "      <td>Private</td>\n",
       "      <td>234721</td>\n",
       "      <td>HighSchool-Grad</td>\n",
       "      <td>Married</td>\n",
       "      <td>Handlers-cleaners</td>\n",
       "      <td>Husband</td>\n",
       "      <td>Black</td>\n",
       "      <td>Male</td>\n",
       "      <td>0</td>\n",
       "      <td>0</td>\n",
       "      <td>40</td>\n",
       "      <td>United-States</td>\n",
       "      <td>&lt;=50K</td>\n",
       "    </tr>\n",
       "    <tr>\n",
       "      <th>4</th>\n",
       "      <td>28</td>\n",
       "      <td>Private</td>\n",
       "      <td>338409</td>\n",
       "      <td>Bachelors</td>\n",
       "      <td>Married</td>\n",
       "      <td>Prof-specialty</td>\n",
       "      <td>Wife</td>\n",
       "      <td>Black</td>\n",
       "      <td>Female</td>\n",
       "      <td>0</td>\n",
       "      <td>0</td>\n",
       "      <td>40</td>\n",
       "      <td>Cuba</td>\n",
       "      <td>&lt;=50K</td>\n",
       "    </tr>\n",
       "  </tbody>\n",
       "</table>\n",
       "</div>"
      ],
      "text/plain": [
       "   Age       Workclass  fnlwgt        education  marital-status  \\\n",
       "0   39  Govt_employees   77516        Bachelors   Never-married   \n",
       "1   50   Self_employed   83311        Bachelors         Married   \n",
       "2   38         Private  215646  HighSchool-Grad       Separated   \n",
       "3   53         Private  234721  HighSchool-Grad         Married   \n",
       "4   28         Private  338409        Bachelors         Married   \n",
       "\n",
       "           occupation    relationship    race      sex  capital-gain  \\\n",
       "0        Adm-clerical   Not-in-family   White     Male          2174   \n",
       "1     Exec-managerial         Husband   White     Male             0   \n",
       "2   Handlers-cleaners   Not-in-family   White     Male             0   \n",
       "3   Handlers-cleaners         Husband   Black     Male             0   \n",
       "4      Prof-specialty            Wife   Black   Female             0   \n",
       "\n",
       "   capital-loss  hours-per-week  native-country  income  \n",
       "0             0              40   United-States   <=50K  \n",
       "1             0              13   United-States   <=50K  \n",
       "2             0              40   United-States   <=50K  \n",
       "3             0              40   United-States   <=50K  \n",
       "4             0              40            Cuba   <=50K  "
      ]
     },
     "execution_count": 16,
     "metadata": {},
     "output_type": "execute_result"
    }
   ],
   "source": [
    "data.head()\n"
   ]
  },
  {
   "cell_type": "code",
   "execution_count": 17,
   "id": "a7045da3",
   "metadata": {},
   "outputs": [
    {
     "name": "stdout",
     "output_type": "stream",
     "text": [
      "Target: 'Income'\n",
      "Unique Values in Income: [' <=50K' ' >50K']\n",
      "Number of unique values: 2\n"
     ]
    }
   ],
   "source": [
    "print(f\"Target: 'Income'\\nUnique Values in Income: {data.income.unique()}\\nNumber of unique values: {data.income.nunique()}\")"
   ]
  },
  {
   "cell_type": "code",
   "execution_count": 18,
   "id": "b97a145c",
   "metadata": {},
   "outputs": [],
   "source": [
    "data['income'] = data['income'].str.replace('<=50K', '0')\n",
    "data['income'] = data['income'].str.replace('>50K', '1')\n",
    "data['income'] = data['income'].astype(np.int64)\n"
   ]
  },
  {
   "cell_type": "code",
   "execution_count": 19,
   "id": "708ee014",
   "metadata": {},
   "outputs": [
    {
     "data": {
      "text/plain": [
       "dtype('int64')"
      ]
     },
     "execution_count": 19,
     "metadata": {},
     "output_type": "execute_result"
    }
   ],
   "source": [
    "data.income.dtypes"
   ]
  },
  {
   "cell_type": "code",
   "execution_count": 20,
   "id": "56d9ff11",
   "metadata": {},
   "outputs": [],
   "source": [
    "import pandas as pd\n",
    "import numpy as np\n",
    "import matplotlib.pyplot as plt\n",
    "import seaborn as sns\n",
    "import plotly.express as px\n",
    "import warnings\n",
    "warnings.filterwarnings('ignore')"
   ]
  },
  {
   "cell_type": "code",
   "execution_count": 21,
   "id": "a881d4d8",
   "metadata": {},
   "outputs": [
    {
     "data": {
      "image/png": "[encoded data removed]",
      "text/plain": [
       "<Figure size 432x288 with 2 Axes>"
      ]
     },
     "metadata": {
      "needs_background": "light"
     },
     "output_type": "display_data"
    }
   ],
   "source": [
    "plt.title(\"Null values in the data\", fontsize = 12)\n",
    "sns.heatmap(data.isnull(), cmap = 'inferno')\n",
    "plt.show()"
   ]
  },
  {
   "cell_type": "code",
   "execution_count": 22,
   "id": "98b68fb2",
   "metadata": {},
   "outputs": [
    {
     "name": "stdout",
     "output_type": "stream",
     "text": [
      "Datatype of every feature: \n"
     ]
    },
    {
     "data": {
      "text/plain": [
       "Age                int64\n",
       "Workclass         object\n",
       "fnlwgt             int64\n",
       "education         object\n",
       "marital-status    object\n",
       "occupation        object\n",
       "relationship      object\n",
       "race              object\n",
       "sex               object\n",
       "capital-gain       int64\n",
       "capital-loss       int64\n",
       "hours-per-week     int64\n",
       "native-country    object\n",
       "income             int64\n",
       "dtype: object"
      ]
     },
     "execution_count": 22,
     "metadata": {},
     "output_type": "execute_result"
    }
   ],
   "source": [
    "print(\"Datatype of every feature: \")\n",
    "data.dtypes"
   ]
  },
  {
   "cell_type": "code",
   "execution_count": 23,
   "id": "621f41ee",
   "metadata": {},
   "outputs": [
    {
     "name": "stdout",
     "output_type": "stream",
     "text": [
      "Number of unique values in every feature: \n"
     ]
    },
    {
     "data": {
      "text/plain": [
       "Age                  73\n",
       "Workclass             6\n",
       "fnlwgt            21648\n",
       "education            10\n",
       "marital-status        4\n",
       "occupation           15\n",
       "relationship          6\n",
       "race                  5\n",
       "sex                   2\n",
       "capital-gain        119\n",
       "capital-loss         92\n",
       "hours-per-week       94\n",
       "native-country       42\n",
       "income                2\n",
       "dtype: int64"
      ]
     },
     "execution_count": 23,
     "metadata": {},
     "output_type": "execute_result"
    }
   ],
   "source": [
    "print(\"Number of unique values in every feature: \")\n",
    "data.nunique()"
   ]
  },
  {
   "cell_type": "code",
   "execution_count": 24,
   "id": "24d3526e",
   "metadata": {},
   "outputs": [
    {
     "data": {
      "text/html": [
       "<div>\n",
       "<style scoped>\n",
       "    .dataframe tbody tr th:only-of-type {\n",
       "        vertical-align: middle;\n",
       "    }\n",
       "\n",
       "    .dataframe tbody tr th {\n",
       "        vertical-align: top;\n",
       "    }\n",
       "\n",
       "    .dataframe thead th {\n",
       "        text-align: right;\n",
       "    }\n",
       "</style>\n",
       "<table border=\"1\" class=\"dataframe\">\n",
       "  <thead>\n",
       "    <tr style=\"text-align: right;\">\n",
       "      <th></th>\n",
       "      <th>Age</th>\n",
       "      <th>fnlwgt</th>\n",
       "      <th>capital-gain</th>\n",
       "      <th>capital-loss</th>\n",
       "      <th>hours-per-week</th>\n",
       "      <th>income</th>\n",
       "    </tr>\n",
       "  </thead>\n",
       "  <tbody>\n",
       "    <tr>\n",
       "      <th>count</th>\n",
       "      <td>32561.000000</td>\n",
       "      <td>3.256100e+04</td>\n",
       "      <td>32561.000000</td>\n",
       "      <td>32561.000000</td>\n",
       "      <td>32561.000000</td>\n",
       "      <td>32561.000000</td>\n",
       "    </tr>\n",
       "    <tr>\n",
       "      <th>mean</th>\n",
       "      <td>38.581647</td>\n",
       "      <td>1.897784e+05</td>\n",
       "      <td>1077.648844</td>\n",
       "      <td>87.303830</td>\n",
       "      <td>40.437456</td>\n",
       "      <td>0.240810</td>\n",
       "    </tr>\n",
       "    <tr>\n",
       "      <th>std</th>\n",
       "      <td>13.640433</td>\n",
       "      <td>1.055500e+05</td>\n",
       "      <td>7385.292085</td>\n",
       "      <td>402.960219</td>\n",
       "      <td>12.347429</td>\n",
       "      <td>0.427581</td>\n",
       "    </tr>\n",
       "    <tr>\n",
       "      <th>min</th>\n",
       "      <td>17.000000</td>\n",
       "      <td>1.228500e+04</td>\n",
       "      <td>0.000000</td>\n",
       "      <td>0.000000</td>\n",
       "      <td>1.000000</td>\n",
       "      <td>0.000000</td>\n",
       "    </tr>\n",
       "    <tr>\n",
       "      <th>25%</th>\n",
       "      <td>28.000000</td>\n",
       "      <td>1.178270e+05</td>\n",
       "      <td>0.000000</td>\n",
       "      <td>0.000000</td>\n",
       "      <td>40.000000</td>\n",
       "      <td>0.000000</td>\n",
       "    </tr>\n",
       "    <tr>\n",
       "      <th>50%</th>\n",
       "      <td>37.000000</td>\n",
       "      <td>1.783560e+05</td>\n",
       "      <td>0.000000</td>\n",
       "      <td>0.000000</td>\n",
       "      <td>40.000000</td>\n",
       "      <td>0.000000</td>\n",
       "    </tr>\n",
       "    <tr>\n",
       "      <th>75%</th>\n",
       "      <td>48.000000</td>\n",
       "      <td>2.370510e+05</td>\n",
       "      <td>0.000000</td>\n",
       "      <td>0.000000</td>\n",
       "      <td>45.000000</td>\n",
       "      <td>0.000000</td>\n",
       "    </tr>\n",
       "    <tr>\n",
       "      <th>max</th>\n",
       "      <td>90.000000</td>\n",
       "      <td>1.484705e+06</td>\n",
       "      <td>99999.000000</td>\n",
       "      <td>4356.000000</td>\n",
       "      <td>99.000000</td>\n",
       "      <td>1.000000</td>\n",
       "    </tr>\n",
       "  </tbody>\n",
       "</table>\n",
       "</div>"
      ],
      "text/plain": [
       "                Age        fnlwgt  capital-gain  capital-loss  hours-per-week  \\\n",
       "count  32561.000000  3.256100e+04  32561.000000  32561.000000    32561.000000   \n",
       "mean      38.581647  1.897784e+05   1077.648844     87.303830       40.437456   \n",
       "std       13.640433  1.055500e+05   7385.292085    402.960219       12.347429   \n",
       "min       17.000000  1.228500e+04      0.000000      0.000000        1.000000   \n",
       "25%       28.000000  1.178270e+05      0.000000      0.000000       40.000000   \n",
       "50%       37.000000  1.783560e+05      0.000000      0.000000       40.000000   \n",
       "75%       48.000000  2.370510e+05      0.000000      0.000000       45.000000   \n",
       "max       90.000000  1.484705e+06  99999.000000   4356.000000       99.000000   \n",
       "\n",
       "             income  \n",
       "count  32561.000000  \n",
       "mean       0.240810  \n",
       "std        0.427581  \n",
       "min        0.000000  \n",
       "25%        0.000000  \n",
       "50%        0.000000  \n",
       "75%        0.000000  \n",
       "max        1.000000  "
      ]
     },
     "execution_count": 24,
     "metadata": {},
     "output_type": "execute_result"
    }
   ],
   "source": [
    "data.describe()"
   ]
  },
  {
   "cell_type": "code",
   "execution_count": 25,
   "id": "fbab6f52",
   "metadata": {},
   "outputs": [],
   "source": [
    "data['occupation'] = data['occupation'].replace(' ?', data['occupation'].mode()[0])\n",
    "data['Workclass'] = data['Workclass'].replace(' ?', data['Workclass'].mode()[0])\n",
    "data['native-country'] = data['native-country'].replace(' ?', data['native-country'].mode()[0])\n"
   ]
  },
  {
   "cell_type": "code",
   "execution_count": 26,
   "id": "48351856",
   "metadata": {},
   "outputs": [
    {
     "data": {
      "text/plain": [
       " Private          24532\n",
       "Govt_employees     4351\n",
       "Self_employed      3657\n",
       " Without-pay         14\n",
       " Never-worked         7\n",
       "Name: Workclass, dtype: int64"
      ]
     },
     "execution_count": 26,
     "metadata": {},
     "output_type": "execute_result"
    }
   ],
   "source": [
    "data['Workclass'].value_counts()"
   ]
  },
  {
   "cell_type": "code",
   "execution_count": 27,
   "id": "ea9e2130",
   "metadata": {},
   "outputs": [
    {
     "data": {
      "text/plain": [
       " Prof-specialty       5983\n",
       " Craft-repair         4099\n",
       " Exec-managerial      4066\n",
       " Adm-clerical         3770\n",
       " Sales                3650\n",
       " Other-service        3295\n",
       " Machine-op-inspct    2002\n",
       " Transport-moving     1597\n",
       " Handlers-cleaners    1370\n",
       " Farming-fishing       994\n",
       " Tech-support          928\n",
       " Protective-serv       649\n",
       " Priv-house-serv       149\n",
       " Armed-Forces            9\n",
       "Name: occupation, dtype: int64"
      ]
     },
     "execution_count": 27,
     "metadata": {},
     "output_type": "execute_result"
    }
   ],
   "source": [
    "data['occupation'].value_counts()"
   ]
  },
  {
   "cell_type": "code",
   "execution_count": 28,
   "id": "e3504a73",
   "metadata": {},
   "outputs": [
    {
     "data": {
      "text/plain": [
       " United-States                 29753\n",
       " Mexico                          643\n",
       " Philippines                     198\n",
       " Germany                         137\n",
       " Canada                          121\n",
       " Puerto-Rico                     114\n",
       " El-Salvador                     106\n",
       " India                           100\n",
       " Cuba                             95\n",
       " England                          90\n",
       " Jamaica                          81\n",
       " South                            80\n",
       " China                            75\n",
       " Italy                            73\n",
       " Dominican-Republic               70\n",
       " Vietnam                          67\n",
       " Guatemala                        64\n",
       " Japan                            62\n",
       " Poland                           60\n",
       " Columbia                         59\n",
       " Taiwan                           51\n",
       " Haiti                            44\n",
       " Iran                             43\n",
       " Portugal                         37\n",
       " Nicaragua                        34\n",
       " Peru                             31\n",
       " France                           29\n",
       " Greece                           29\n",
       " Ecuador                          28\n",
       " Ireland                          24\n",
       " Hong                             20\n",
       " Trinadad&Tobago                  19\n",
       " Cambodia                         19\n",
       " Thailand                         18\n",
       " Laos                             18\n",
       " Yugoslavia                       16\n",
       " Outlying-US(Guam-USVI-etc)       14\n",
       " Honduras                         13\n",
       " Hungary                          13\n",
       " Scotland                         12\n",
       " Holand-Netherlands                1\n",
       "Name: native-country, dtype: int64"
      ]
     },
     "execution_count": 28,
     "metadata": {},
     "output_type": "execute_result"
    }
   ],
   "source": [
    "data['native-country'].value_counts()"
   ]
  },
  {
   "cell_type": "code",
   "execution_count": 29,
   "id": "56c0b406",
   "metadata": {},
   "outputs": [],
   "source": [
    "ds = data.copy()"
   ]
  },
  {
   "cell_type": "code",
   "execution_count": 30,
   "id": "f3f1a608",
   "metadata": {},
   "outputs": [
    {
     "data": {
      "text/html": [
       "<div>\n",
       "<style scoped>\n",
       "    .dataframe tbody tr th:only-of-type {\n",
       "        vertical-align: middle;\n",
       "    }\n",
       "\n",
       "    .dataframe tbody tr th {\n",
       "        vertical-align: top;\n",
       "    }\n",
       "\n",
       "    .dataframe thead th {\n",
       "        text-align: right;\n",
       "    }\n",
       "</style>\n",
       "<table border=\"1\" class=\"dataframe\">\n",
       "  <thead>\n",
       "    <tr style=\"text-align: right;\">\n",
       "      <th></th>\n",
       "      <th>Age</th>\n",
       "      <th>Workclass</th>\n",
       "      <th>fnlwgt</th>\n",
       "      <th>education</th>\n",
       "      <th>marital-status</th>\n",
       "      <th>occupation</th>\n",
       "      <th>relationship</th>\n",
       "      <th>race</th>\n",
       "      <th>sex</th>\n",
       "      <th>capital-gain</th>\n",
       "      <th>capital-loss</th>\n",
       "      <th>hours-per-week</th>\n",
       "      <th>native-country</th>\n",
       "      <th>income</th>\n",
       "    </tr>\n",
       "  </thead>\n",
       "  <tbody>\n",
       "    <tr>\n",
       "      <th>0</th>\n",
       "      <td>39</td>\n",
       "      <td>Govt_employees</td>\n",
       "      <td>77516</td>\n",
       "      <td>Bachelors</td>\n",
       "      <td>Never-married</td>\n",
       "      <td>Adm-clerical</td>\n",
       "      <td>Not-in-family</td>\n",
       "      <td>White</td>\n",
       "      <td>Male</td>\n",
       "      <td>2174</td>\n",
       "      <td>0</td>\n",
       "      <td>40</td>\n",
       "      <td>United-States</td>\n",
       "      <td>0</td>\n",
       "    </tr>\n",
       "    <tr>\n",
       "      <th>1</th>\n",
       "      <td>50</td>\n",
       "      <td>Self_employed</td>\n",
       "      <td>83311</td>\n",
       "      <td>Bachelors</td>\n",
       "      <td>Married</td>\n",
       "      <td>Exec-managerial</td>\n",
       "      <td>Husband</td>\n",
       "      <td>White</td>\n",
       "      <td>Male</td>\n",
       "      <td>0</td>\n",
       "      <td>0</td>\n",
       "      <td>13</td>\n",
       "      <td>United-States</td>\n",
       "      <td>0</td>\n",
       "    </tr>\n",
       "    <tr>\n",
       "      <th>2</th>\n",
       "      <td>38</td>\n",
       "      <td>Private</td>\n",
       "      <td>215646</td>\n",
       "      <td>HighSchool-Grad</td>\n",
       "      <td>Separated</td>\n",
       "      <td>Handlers-cleaners</td>\n",
       "      <td>Not-in-family</td>\n",
       "      <td>White</td>\n",
       "      <td>Male</td>\n",
       "      <td>0</td>\n",
       "      <td>0</td>\n",
       "      <td>40</td>\n",
       "      <td>United-States</td>\n",
       "      <td>0</td>\n",
       "    </tr>\n",
       "    <tr>\n",
       "      <th>3</th>\n",
       "      <td>53</td>\n",
       "      <td>Private</td>\n",
       "      <td>234721</td>\n",
       "      <td>HighSchool-Grad</td>\n",
       "      <td>Married</td>\n",
       "      <td>Handlers-cleaners</td>\n",
       "      <td>Husband</td>\n",
       "      <td>Black</td>\n",
       "      <td>Male</td>\n",
       "      <td>0</td>\n",
       "      <td>0</td>\n",
       "      <td>40</td>\n",
       "      <td>United-States</td>\n",
       "      <td>0</td>\n",
       "    </tr>\n",
       "    <tr>\n",
       "      <th>4</th>\n",
       "      <td>28</td>\n",
       "      <td>Private</td>\n",
       "      <td>338409</td>\n",
       "      <td>Bachelors</td>\n",
       "      <td>Married</td>\n",
       "      <td>Prof-specialty</td>\n",
       "      <td>Wife</td>\n",
       "      <td>Black</td>\n",
       "      <td>Female</td>\n",
       "      <td>0</td>\n",
       "      <td>0</td>\n",
       "      <td>40</td>\n",
       "      <td>Cuba</td>\n",
       "      <td>0</td>\n",
       "    </tr>\n",
       "    <tr>\n",
       "      <th>...</th>\n",
       "      <td>...</td>\n",
       "      <td>...</td>\n",
       "      <td>...</td>\n",
       "      <td>...</td>\n",
       "      <td>...</td>\n",
       "      <td>...</td>\n",
       "      <td>...</td>\n",
       "      <td>...</td>\n",
       "      <td>...</td>\n",
       "      <td>...</td>\n",
       "      <td>...</td>\n",
       "      <td>...</td>\n",
       "      <td>...</td>\n",
       "      <td>...</td>\n",
       "    </tr>\n",
       "    <tr>\n",
       "      <th>95</th>\n",
       "      <td>29</td>\n",
       "      <td>Govt_employees</td>\n",
       "      <td>115585</td>\n",
       "      <td>Some-college</td>\n",
       "      <td>Never-married</td>\n",
       "      <td>Handlers-cleaners</td>\n",
       "      <td>Not-in-family</td>\n",
       "      <td>White</td>\n",
       "      <td>Male</td>\n",
       "      <td>0</td>\n",
       "      <td>0</td>\n",
       "      <td>50</td>\n",
       "      <td>United-States</td>\n",
       "      <td>0</td>\n",
       "    </tr>\n",
       "    <tr>\n",
       "      <th>96</th>\n",
       "      <td>48</td>\n",
       "      <td>Self_employed</td>\n",
       "      <td>191277</td>\n",
       "      <td>Doctorate</td>\n",
       "      <td>Married</td>\n",
       "      <td>Prof-specialty</td>\n",
       "      <td>Husband</td>\n",
       "      <td>White</td>\n",
       "      <td>Male</td>\n",
       "      <td>0</td>\n",
       "      <td>1902</td>\n",
       "      <td>60</td>\n",
       "      <td>United-States</td>\n",
       "      <td>1</td>\n",
       "    </tr>\n",
       "    <tr>\n",
       "      <th>97</th>\n",
       "      <td>37</td>\n",
       "      <td>Private</td>\n",
       "      <td>202683</td>\n",
       "      <td>Some-college</td>\n",
       "      <td>Married</td>\n",
       "      <td>Sales</td>\n",
       "      <td>Husband</td>\n",
       "      <td>White</td>\n",
       "      <td>Male</td>\n",
       "      <td>0</td>\n",
       "      <td>0</td>\n",
       "      <td>48</td>\n",
       "      <td>United-States</td>\n",
       "      <td>1</td>\n",
       "    </tr>\n",
       "    <tr>\n",
       "      <th>98</th>\n",
       "      <td>48</td>\n",
       "      <td>Private</td>\n",
       "      <td>171095</td>\n",
       "      <td>Assoc-acdm</td>\n",
       "      <td>Separated</td>\n",
       "      <td>Exec-managerial</td>\n",
       "      <td>Unmarried</td>\n",
       "      <td>White</td>\n",
       "      <td>Female</td>\n",
       "      <td>0</td>\n",
       "      <td>0</td>\n",
       "      <td>40</td>\n",
       "      <td>England</td>\n",
       "      <td>0</td>\n",
       "    </tr>\n",
       "    <tr>\n",
       "      <th>99</th>\n",
       "      <td>32</td>\n",
       "      <td>Govt_employees</td>\n",
       "      <td>249409</td>\n",
       "      <td>HighSchool-Grad</td>\n",
       "      <td>Never-married</td>\n",
       "      <td>Other-service</td>\n",
       "      <td>Own-child</td>\n",
       "      <td>Black</td>\n",
       "      <td>Male</td>\n",
       "      <td>0</td>\n",
       "      <td>0</td>\n",
       "      <td>40</td>\n",
       "      <td>United-States</td>\n",
       "      <td>0</td>\n",
       "    </tr>\n",
       "  </tbody>\n",
       "</table>\n",
       "<p>100 rows × 14 columns</p>\n",
       "</div>"
      ],
      "text/plain": [
       "    Age       Workclass  fnlwgt        education  marital-status  \\\n",
       "0    39  Govt_employees   77516        Bachelors   Never-married   \n",
       "1    50   Self_employed   83311        Bachelors         Married   \n",
       "2    38         Private  215646  HighSchool-Grad       Separated   \n",
       "3    53         Private  234721  HighSchool-Grad         Married   \n",
       "4    28         Private  338409        Bachelors         Married   \n",
       "..  ...             ...     ...              ...             ...   \n",
       "95   29  Govt_employees  115585     Some-college   Never-married   \n",
       "96   48   Self_employed  191277        Doctorate         Married   \n",
       "97   37         Private  202683     Some-college         Married   \n",
       "98   48         Private  171095       Assoc-acdm       Separated   \n",
       "99   32  Govt_employees  249409  HighSchool-Grad   Never-married   \n",
       "\n",
       "            occupation    relationship    race      sex  capital-gain  \\\n",
       "0         Adm-clerical   Not-in-family   White     Male          2174   \n",
       "1      Exec-managerial         Husband   White     Male             0   \n",
       "2    Handlers-cleaners   Not-in-family   White     Male             0   \n",
       "3    Handlers-cleaners         Husband   Black     Male             0   \n",
       "4       Prof-specialty            Wife   Black   Female             0   \n",
       "..                 ...             ...     ...      ...           ...   \n",
       "95   Handlers-cleaners   Not-in-family   White     Male             0   \n",
       "96      Prof-specialty         Husband   White     Male             0   \n",
       "97               Sales         Husband   White     Male             0   \n",
       "98     Exec-managerial       Unmarried   White   Female             0   \n",
       "99       Other-service       Own-child   Black     Male             0   \n",
       "\n",
       "    capital-loss  hours-per-week  native-country  income  \n",
       "0              0              40   United-States       0  \n",
       "1              0              13   United-States       0  \n",
       "2              0              40   United-States       0  \n",
       "3              0              40   United-States       0  \n",
       "4              0              40            Cuba       0  \n",
       "..           ...             ...             ...     ...  \n",
       "95             0              50   United-States       0  \n",
       "96          1902              60   United-States       1  \n",
       "97             0              48   United-States       1  \n",
       "98             0              40         England       0  \n",
       "99             0              40   United-States       0  \n",
       "\n",
       "[100 rows x 14 columns]"
      ]
     },
     "execution_count": 30,
     "metadata": {},
     "output_type": "execute_result"
    }
   ],
   "source": [
    "ds.head(100)"
   ]
  },
  {
   "cell_type": "code",
   "execution_count": 31,
   "id": "47289d15",
   "metadata": {},
   "outputs": [
    {
     "data": {
      "image/png": "[encoded data removed]",
      "text/plain": [
       "<Figure size 720x432 with 1 Axes>"
      ]
     },
     "metadata": {
      "needs_background": "light"
     },
     "output_type": "display_data"
    }
   ],
   "source": [
    "plt.figure(figsize = (10,6))\n",
    "plt.title(\"Income of people according to their workclass\", fontsize = 16)\n",
    "sns.countplot(y = ds['Workclass'], hue = ds['income'])\n",
    "plt.show()"
   ]
  },
  {
   "cell_type": "code",
   "execution_count": 32,
   "id": "e4cb5746",
   "metadata": {},
   "outputs": [
    {
     "name": "stdout",
     "output_type": "stream",
     "text": [
      "Workclass\n",
      " Never-worked     0.000215\n",
      " Private          0.753417\n",
      " Without-pay      0.000430\n",
      "Govt_employees    0.133626\n",
      "Self_employed     0.112312\n",
      "dtype: float64\n"
     ]
    },
    {
     "data": {
      "text/plain": [
       "0     0.133626\n",
       "1     0.112312\n",
       "2     0.753417\n",
       "3     0.753417\n",
       "4     0.753417\n",
       "        ...   \n",
       "95    0.133626\n",
       "96    0.112312\n",
       "97    0.753417\n",
       "98    0.753417\n",
       "99    0.133626\n",
       "Name: workclass_enc, Length: 100, dtype: float64"
      ]
     },
     "execution_count": 32,
     "metadata": {},
     "output_type": "execute_result"
    }
   ],
   "source": [
    "workclass_enc = (ds.groupby('Workclass').size()) / len(ds)\n",
    "print(workclass_enc)\n",
    "\n",
    "ds['workclass_enc'] = ds['Workclass'].apply(lambda x : workclass_enc[x])\n",
    "ds['workclass_enc'].head(100)"
   ]
  },
  {
   "cell_type": "code",
   "execution_count": 33,
   "id": "c4f8a61f",
   "metadata": {},
   "outputs": [],
   "source": [
    "ds.drop(['Workclass'], axis = 1, inplace = True)"
   ]
  },
  {
   "cell_type": "code",
   "execution_count": 34,
   "id": "65443a77",
   "metadata": {},
   "outputs": [
    {
     "data": {
      "image/png": "[encoded data removed]",
      "text/plain": [
       "<Figure size 720x432 with 1 Axes>"
      ]
     },
     "metadata": {
      "needs_background": "light"
     },
     "output_type": "display_data"
    }
   ],
   "source": [
    "plt.figure(figsize = (10,6))\n",
    "plt.title(\"Income of people according to their occupation\", fontsize = 16)\n",
    "sns.countplot(y = ds['occupation'], hue = ds['income'])\n",
    "plt.show()"
   ]
  },
  {
   "cell_type": "code",
   "execution_count": 35,
   "id": "bc1806df",
   "metadata": {},
   "outputs": [
    {
     "name": "stdout",
     "output_type": "stream",
     "text": [
      "occupation\n",
      " Adm-clerical         0.115783\n",
      " Armed-Forces         0.000276\n",
      " Craft-repair         0.125887\n",
      " Exec-managerial      0.124873\n",
      " Farming-fishing      0.030527\n",
      " Handlers-cleaners    0.042075\n",
      " Machine-op-inspct    0.061485\n",
      " Other-service        0.101195\n",
      " Priv-house-serv      0.004576\n",
      " Prof-specialty       0.183747\n",
      " Protective-serv      0.019932\n",
      " Sales                0.112097\n",
      " Tech-support         0.028500\n",
      " Transport-moving     0.049046\n",
      "dtype: float64\n"
     ]
    },
    {
     "data": {
      "text/plain": [
       "0     0.115783\n",
       "1     0.124873\n",
       "2     0.042075\n",
       "3     0.042075\n",
       "4     0.183747\n",
       "        ...   \n",
       "95    0.042075\n",
       "96    0.183747\n",
       "97    0.112097\n",
       "98    0.124873\n",
       "99    0.101195\n",
       "Name: occupation_enc, Length: 100, dtype: float64"
      ]
     },
     "execution_count": 35,
     "metadata": {},
     "output_type": "execute_result"
    }
   ],
   "source": [
    "occupation_enc = (ds.groupby('occupation').size()) / len(ds)\n",
    "print(occupation_enc)\n",
    "\n",
    "ds['occupation_enc'] = ds['occupation'].apply(lambda x : occupation_enc[x])\n",
    "ds['occupation_enc'].head(100)"
   ]
  },
  {
   "cell_type": "code",
   "execution_count": 36,
   "id": "c407659c",
   "metadata": {},
   "outputs": [
    {
     "data": {
      "image/png": "[encoded data removed]",
      "text/plain": [
       "<Figure size 720x432 with 1 Axes>"
      ]
     },
     "metadata": {
      "needs_background": "light"
     },
     "output_type": "display_data"
    }
   ],
   "source": [
    "plt.figure(figsize = (10,6))\n",
    "plt.title(\"Income of people according to their education\", fontsize = 16)\n",
    "sns.countplot(y = ds['education'], hue = ds['income'])\n",
    "plt.show()"
   ]
  },
  {
   "cell_type": "code",
   "execution_count": 37,
   "id": "9396cec2",
   "metadata": {},
   "outputs": [
    {
     "name": "stdout",
     "output_type": "stream",
     "text": [
      "education\n",
      " Assoc-acdm          0.032769\n",
      " Assoc-voc           0.042443\n",
      " Bachelors           0.164461\n",
      " Doctorate           0.012684\n",
      " Masters             0.052916\n",
      " Preschool           0.001566\n",
      " Prof-school         0.017690\n",
      " Some-college        0.223918\n",
      "HighSchool-Grad      0.416326\n",
      "elementary_school    0.035226\n",
      "dtype: float64\n"
     ]
    },
    {
     "data": {
      "text/plain": [
       "0     0.164461\n",
       "1     0.164461\n",
       "2     0.416326\n",
       "3     0.416326\n",
       "4     0.164461\n",
       "        ...   \n",
       "95    0.223918\n",
       "96    0.012684\n",
       "97    0.223918\n",
       "98    0.032769\n",
       "99    0.416326\n",
       "Name: education_enc, Length: 100, dtype: float64"
      ]
     },
     "execution_count": 37,
     "metadata": {},
     "output_type": "execute_result"
    }
   ],
   "source": [
    "education_enc = (ds.groupby('education').size()) / len(ds)\n",
    "print(education_enc)\n",
    "\n",
    "ds['education_enc'] = ds['education'].apply(lambda x : education_enc[x])\n",
    "ds['education_enc'].head(100)"
   ]
  },
  {
   "cell_type": "code",
   "execution_count": 38,
   "id": "334646e5",
   "metadata": {},
   "outputs": [
    {
     "data": {
      "image/png": "[encoded data removed]",
      "text/plain": [
       "<Figure size 720x432 with 1 Axes>"
      ]
     },
     "metadata": {
      "needs_background": "light"
     },
     "output_type": "display_data"
    }
   ],
   "source": [
    "plt.figure(figsize = (10,6))\n",
    "plt.title(\"Income of people according to their sex\", fontsize = 16)\n",
    "sns.countplot(x = ds['sex'], hue = ds['income'])\n",
    "plt.show()"
   ]
  },
  {
   "cell_type": "code",
   "execution_count": 39,
   "id": "706b5077",
   "metadata": {},
   "outputs": [
    {
     "name": "stdout",
     "output_type": "stream",
     "text": [
      "sex\n",
      " Female    0.330795\n",
      " Male      0.669205\n",
      "dtype: float64\n"
     ]
    },
    {
     "data": {
      "text/plain": [
       "0     0.669205\n",
       "1     0.669205\n",
       "2     0.669205\n",
       "3     0.669205\n",
       "4     0.330795\n",
       "        ...   \n",
       "95    0.669205\n",
       "96    0.669205\n",
       "97    0.669205\n",
       "98    0.330795\n",
       "99    0.669205\n",
       "Name: sex_enc, Length: 100, dtype: float64"
      ]
     },
     "execution_count": 39,
     "metadata": {},
     "output_type": "execute_result"
    }
   ],
   "source": [
    "sex_enc = (ds.groupby('sex').size()) / len(ds)\n",
    "print(sex_enc)\n",
    "\n",
    "ds['sex_enc'] = ds['sex'].apply(lambda x : sex_enc[x])\n",
    "ds['sex_enc'].head(100)"
   ]
  },
  {
   "cell_type": "code",
   "execution_count": 40,
   "id": "7d44e8ad",
   "metadata": {},
   "outputs": [
    {
     "data": {
      "image/png": "[encoded data removed]",
      "text/plain": [
       "<Figure size 720x432 with 1 Axes>"
      ]
     },
     "metadata": {
      "needs_background": "light"
     },
     "output_type": "display_data"
    }
   ],
   "source": [
    "plt.figure(figsize = (10,6))\n",
    "plt.title(\"Income of people according to their marital status\", fontsize = 16)\n",
    "sns.countplot(y = ds['marital-status'], hue = ds['income'])\n",
    "plt.show()"
   ]
  },
  {
   "cell_type": "code",
   "execution_count": 41,
   "id": "6850a247",
   "metadata": {},
   "outputs": [
    {
     "name": "stdout",
     "output_type": "stream",
     "text": [
      "marital-status\n",
      " Never-married    0.328092\n",
      " Widowed          0.030497\n",
      "Married           0.473481\n",
      "Separated         0.167931\n",
      "dtype: float64\n"
     ]
    },
    {
     "data": {
      "text/plain": [
       "0     0.328092\n",
       "1     0.473481\n",
       "2     0.167931\n",
       "3     0.473481\n",
       "4     0.473481\n",
       "        ...   \n",
       "95    0.328092\n",
       "96    0.473481\n",
       "97    0.473481\n",
       "98    0.167931\n",
       "99    0.328092\n",
       "Name: marital_enc, Length: 100, dtype: float64"
      ]
     },
     "execution_count": 41,
     "metadata": {},
     "output_type": "execute_result"
    }
   ],
   "source": [
    "marital_enc = (ds.groupby('marital-status').size()) / len(ds)\n",
    "print(marital_enc)\n",
    "\n",
    "ds['marital_enc'] = ds['marital-status'].apply(lambda x : marital_enc[x])\n",
    "ds['marital_enc'].head(100)"
   ]
  },
  {
   "cell_type": "code",
   "execution_count": 42,
   "id": "4542660a",
   "metadata": {},
   "outputs": [
    {
     "data": {
      "image/png": "[encoded data removed]",
      "text/plain": [
       "<Figure size 720x432 with 1 Axes>"
      ]
     },
     "metadata": {
      "needs_background": "light"
     },
     "output_type": "display_data"
    }
   ],
   "source": [
    "plt.figure(figsize = (10,6))\n",
    "plt.title(\"Income of people according to their race\", fontsize = 16)\n",
    "sns.countplot(y = ds['race'], hue = ds['income'])\n",
    "plt.show()"
   ]
  },
  {
   "cell_type": "code",
   "execution_count": 43,
   "id": "ca606b04",
   "metadata": {},
   "outputs": [
    {
     "name": "stdout",
     "output_type": "stream",
     "text": [
      "race\n",
      " Amer-Indian-Eskimo    0.009551\n",
      " Asian-Pac-Islander    0.031909\n",
      " Black                 0.095943\n",
      " Other                 0.008323\n",
      " White                 0.854274\n",
      "dtype: float64\n"
     ]
    },
    {
     "data": {
      "text/plain": [
       "0     0.854274\n",
       "1     0.854274\n",
       "2     0.854274\n",
       "3     0.095943\n",
       "4     0.095943\n",
       "        ...   \n",
       "95    0.854274\n",
       "96    0.854274\n",
       "97    0.854274\n",
       "98    0.854274\n",
       "99    0.095943\n",
       "Name: race_enc, Length: 100, dtype: float64"
      ]
     },
     "execution_count": 43,
     "metadata": {},
     "output_type": "execute_result"
    }
   ],
   "source": [
    "race_enc = (ds.groupby('race').size()) / len(ds)\n",
    "print(race_enc)\n",
    "\n",
    "ds['race_enc'] = ds['race'].apply(lambda x : race_enc[x])\n",
    "ds['race_enc'].head(100)"
   ]
  },
  {
   "cell_type": "code",
   "execution_count": 44,
   "id": "c9d317d7",
   "metadata": {},
   "outputs": [
    {
     "data": {
      "image/png": "[encoded data removed]",
      "text/plain": [
       "<Figure size 720x432 with 1 Axes>"
      ]
     },
     "metadata": {
      "needs_background": "light"
     },
     "output_type": "display_data"
    }
   ],
   "source": [
    "plt.figure(figsize = (10,6))\n",
    "plt.title(\"Income of people according to their relationship\", fontsize = 16)\n",
    "sns.countplot(y = ds['relationship'], hue = ds['income'])\n",
    "plt.show()"
   ]
  },
  {
   "cell_type": "code",
   "execution_count": 45,
   "id": "1317d22b",
   "metadata": {},
   "outputs": [
    {
     "name": "stdout",
     "output_type": "stream",
     "text": [
      "relationship\n",
      " Husband           0.405178\n",
      " Not-in-family     0.255060\n",
      " Other-relative    0.030128\n",
      " Own-child         0.155646\n",
      " Unmarried         0.105832\n",
      " Wife              0.048156\n",
      "dtype: float64\n"
     ]
    },
    {
     "data": {
      "text/plain": [
       "0     0.255060\n",
       "1     0.405178\n",
       "2     0.255060\n",
       "3     0.405178\n",
       "4     0.048156\n",
       "        ...   \n",
       "95    0.255060\n",
       "96    0.405178\n",
       "97    0.405178\n",
       "98    0.105832\n",
       "99    0.155646\n",
       "Name: relationship_enc, Length: 100, dtype: float64"
      ]
     },
     "execution_count": 45,
     "metadata": {},
     "output_type": "execute_result"
    }
   ],
   "source": [
    "relationship_enc = (ds.groupby('relationship').size()) / len(ds)\n",
    "print(relationship_enc)\n",
    "\n",
    "ds['relationship_enc'] = ds['relationship'].apply(lambda x : relationship_enc[x])\n",
    "ds['relationship_enc'].head(100)"
   ]
  },
  {
   "cell_type": "code",
   "execution_count": 46,
   "id": "72f13211",
   "metadata": {},
   "outputs": [],
   "source": [
    "ds.drop(['occupation'], axis = 1, inplace = True)"
   ]
  },
  {
   "cell_type": "code",
   "execution_count": 47,
   "id": "e183da99",
   "metadata": {},
   "outputs": [],
   "source": [
    "ds.drop(['education'], axis = 1, inplace = True)"
   ]
  },
  {
   "cell_type": "code",
   "execution_count": 48,
   "id": "6adb7637",
   "metadata": {},
   "outputs": [],
   "source": [
    "ds.drop(['race'], axis = 1, inplace = True)"
   ]
  },
  {
   "cell_type": "code",
   "execution_count": 49,
   "id": "a55a8b0c",
   "metadata": {},
   "outputs": [],
   "source": [
    "ds.drop(['sex'], axis = 1, inplace = True)"
   ]
  },
  {
   "cell_type": "code",
   "execution_count": 50,
   "id": "4484815b",
   "metadata": {},
   "outputs": [],
   "source": [
    "ds.drop(['relationship'], axis = 1, inplace = True)"
   ]
  },
  {
   "cell_type": "code",
   "execution_count": 51,
   "id": "97a3f6d0",
   "metadata": {},
   "outputs": [],
   "source": [
    "ds.drop(['marital-status'], axis = 1, inplace = True)"
   ]
  },
  {
   "cell_type": "code",
   "execution_count": 52,
   "id": "8bd468a3",
   "metadata": {},
   "outputs": [
    {
     "data": {
      "image/png": "[encoded data removed]",
      "text/plain": [
       "<Figure size 1440x504 with 1 Axes>"
      ]
     },
     "metadata": {
      "needs_background": "light"
     },
     "output_type": "display_data"
    }
   ],
   "source": [
    "plt.figure(figsize = (20,7))\n",
    "plt.title(\"Income of people according to their native country\", fontsize \n",
    "          = 16)\n",
    "sns.countplot(y = ds['native-country'], hue = data['income'])\n",
    "plt.show()"
   ]
  },
  {
   "cell_type": "code",
   "execution_count": 53,
   "id": "51bbdb29",
   "metadata": {},
   "outputs": [
    {
     "name": "stdout",
     "output_type": "stream",
     "text": [
      "native-country\n",
      " Cambodia                      0.000584\n",
      " Canada                        0.003716\n",
      " China                         0.002303\n",
      " Columbia                      0.001812\n",
      " Cuba                          0.002918\n",
      " Dominican-Republic            0.002150\n",
      " Ecuador                       0.000860\n",
      " El-Salvador                   0.003255\n",
      " England                       0.002764\n",
      " France                        0.000891\n",
      " Germany                       0.004207\n",
      " Greece                        0.000891\n",
      " Guatemala                     0.001966\n",
      " Haiti                         0.001351\n",
      " Holand-Netherlands            0.000031\n",
      " Honduras                      0.000399\n",
      " Hong                          0.000614\n",
      " Hungary                       0.000399\n",
      " India                         0.003071\n",
      " Iran                          0.001321\n",
      " Ireland                       0.000737\n",
      " Italy                         0.002242\n",
      " Jamaica                       0.002488\n",
      " Japan                         0.001904\n",
      " Laos                          0.000553\n",
      " Mexico                        0.019748\n",
      " Nicaragua                     0.001044\n",
      " Outlying-US(Guam-USVI-etc)    0.000430\n",
      " Peru                          0.000952\n",
      " Philippines                   0.006081\n",
      " Poland                        0.001843\n",
      " Portugal                      0.001136\n",
      " Puerto-Rico                   0.003501\n",
      " Scotland                      0.000369\n",
      " South                         0.002457\n",
      " Taiwan                        0.001566\n",
      " Thailand                      0.000553\n",
      " Trinadad&Tobago               0.000584\n",
      " United-States                 0.913762\n",
      " Vietnam                       0.002058\n",
      " Yugoslavia                    0.000491\n",
      "dtype: float64\n"
     ]
    },
    {
     "data": {
      "text/plain": [
       "0     0.913762\n",
       "1     0.913762\n",
       "2     0.913762\n",
       "3     0.913762\n",
       "4     0.002918\n",
       "        ...   \n",
       "95    0.913762\n",
       "96    0.913762\n",
       "97    0.913762\n",
       "98    0.002764\n",
       "99    0.913762\n",
       "Name: native_enc, Length: 100, dtype: float64"
      ]
     },
     "execution_count": 53,
     "metadata": {},
     "output_type": "execute_result"
    }
   ],
   "source": [
    "native_enc = (ds.groupby('native-country').size()) / len(ds)\n",
    "print(native_enc)\n",
    "\n",
    "ds['native_enc'] = ds['native-country'].apply(lambda x : native_enc[x])\n",
    "ds['native_enc'].head(100)"
   ]
  },
  {
   "cell_type": "code",
   "execution_count": 54,
   "id": "a9dd5ba6",
   "metadata": {},
   "outputs": [],
   "source": [
    "ds.drop(['native-country'], axis = 1, inplace = True)"
   ]
  },
  {
   "cell_type": "code",
   "execution_count": 55,
   "id": "8cd90a27",
   "metadata": {},
   "outputs": [
    {
     "data": {
      "text/html": [
       "<div>\n",
       "<style scoped>\n",
       "    .dataframe tbody tr th:only-of-type {\n",
       "        vertical-align: middle;\n",
       "    }\n",
       "\n",
       "    .dataframe tbody tr th {\n",
       "        vertical-align: top;\n",
       "    }\n",
       "\n",
       "    .dataframe thead th {\n",
       "        text-align: right;\n",
       "    }\n",
       "</style>\n",
       "<table border=\"1\" class=\"dataframe\">\n",
       "  <thead>\n",
       "    <tr style=\"text-align: right;\">\n",
       "      <th></th>\n",
       "      <th>Age</th>\n",
       "      <th>fnlwgt</th>\n",
       "      <th>capital-gain</th>\n",
       "      <th>capital-loss</th>\n",
       "      <th>hours-per-week</th>\n",
       "      <th>income</th>\n",
       "      <th>workclass_enc</th>\n",
       "      <th>occupation_enc</th>\n",
       "      <th>education_enc</th>\n",
       "      <th>sex_enc</th>\n",
       "      <th>marital_enc</th>\n",
       "      <th>race_enc</th>\n",
       "      <th>relationship_enc</th>\n",
       "      <th>native_enc</th>\n",
       "    </tr>\n",
       "  </thead>\n",
       "  <tbody>\n",
       "    <tr>\n",
       "      <th>0</th>\n",
       "      <td>39</td>\n",
       "      <td>77516</td>\n",
       "      <td>2174</td>\n",
       "      <td>0</td>\n",
       "      <td>40</td>\n",
       "      <td>0</td>\n",
       "      <td>0.133626</td>\n",
       "      <td>0.115783</td>\n",
       "      <td>0.164461</td>\n",
       "      <td>0.669205</td>\n",
       "      <td>0.328092</td>\n",
       "      <td>0.854274</td>\n",
       "      <td>0.255060</td>\n",
       "      <td>0.913762</td>\n",
       "    </tr>\n",
       "    <tr>\n",
       "      <th>1</th>\n",
       "      <td>50</td>\n",
       "      <td>83311</td>\n",
       "      <td>0</td>\n",
       "      <td>0</td>\n",
       "      <td>13</td>\n",
       "      <td>0</td>\n",
       "      <td>0.112312</td>\n",
       "      <td>0.124873</td>\n",
       "      <td>0.164461</td>\n",
       "      <td>0.669205</td>\n",
       "      <td>0.473481</td>\n",
       "      <td>0.854274</td>\n",
       "      <td>0.405178</td>\n",
       "      <td>0.913762</td>\n",
       "    </tr>\n",
       "    <tr>\n",
       "      <th>2</th>\n",
       "      <td>38</td>\n",
       "      <td>215646</td>\n",
       "      <td>0</td>\n",
       "      <td>0</td>\n",
       "      <td>40</td>\n",
       "      <td>0</td>\n",
       "      <td>0.753417</td>\n",
       "      <td>0.042075</td>\n",
       "      <td>0.416326</td>\n",
       "      <td>0.669205</td>\n",
       "      <td>0.167931</td>\n",
       "      <td>0.854274</td>\n",
       "      <td>0.255060</td>\n",
       "      <td>0.913762</td>\n",
       "    </tr>\n",
       "    <tr>\n",
       "      <th>3</th>\n",
       "      <td>53</td>\n",
       "      <td>234721</td>\n",
       "      <td>0</td>\n",
       "      <td>0</td>\n",
       "      <td>40</td>\n",
       "      <td>0</td>\n",
       "      <td>0.753417</td>\n",
       "      <td>0.042075</td>\n",
       "      <td>0.416326</td>\n",
       "      <td>0.669205</td>\n",
       "      <td>0.473481</td>\n",
       "      <td>0.095943</td>\n",
       "      <td>0.405178</td>\n",
       "      <td>0.913762</td>\n",
       "    </tr>\n",
       "    <tr>\n",
       "      <th>4</th>\n",
       "      <td>28</td>\n",
       "      <td>338409</td>\n",
       "      <td>0</td>\n",
       "      <td>0</td>\n",
       "      <td>40</td>\n",
       "      <td>0</td>\n",
       "      <td>0.753417</td>\n",
       "      <td>0.183747</td>\n",
       "      <td>0.164461</td>\n",
       "      <td>0.330795</td>\n",
       "      <td>0.473481</td>\n",
       "      <td>0.095943</td>\n",
       "      <td>0.048156</td>\n",
       "      <td>0.002918</td>\n",
       "    </tr>\n",
       "  </tbody>\n",
       "</table>\n",
       "</div>"
      ],
      "text/plain": [
       "   Age  fnlwgt  capital-gain  capital-loss  hours-per-week  income  \\\n",
       "0   39   77516          2174             0              40       0   \n",
       "1   50   83311             0             0              13       0   \n",
       "2   38  215646             0             0              40       0   \n",
       "3   53  234721             0             0              40       0   \n",
       "4   28  338409             0             0              40       0   \n",
       "\n",
       "   workclass_enc  occupation_enc  education_enc   sex_enc  marital_enc  \\\n",
       "0       0.133626        0.115783       0.164461  0.669205     0.328092   \n",
       "1       0.112312        0.124873       0.164461  0.669205     0.473481   \n",
       "2       0.753417        0.042075       0.416326  0.669205     0.167931   \n",
       "3       0.753417        0.042075       0.416326  0.669205     0.473481   \n",
       "4       0.753417        0.183747       0.164461  0.330795     0.473481   \n",
       "\n",
       "   race_enc  relationship_enc  native_enc  \n",
       "0  0.854274          0.255060    0.913762  \n",
       "1  0.854274          0.405178    0.913762  \n",
       "2  0.854274          0.255060    0.913762  \n",
       "3  0.095943          0.405178    0.913762  \n",
       "4  0.095943          0.048156    0.002918  "
      ]
     },
     "execution_count": 55,
     "metadata": {},
     "output_type": "execute_result"
    }
   ],
   "source": [
    "ds.head()"
   ]
  },
  {
   "cell_type": "code",
   "execution_count": 56,
   "id": "3fed0ece",
   "metadata": {},
   "outputs": [],
   "source": [
    "plt.style.use('default')"
   ]
  },
  {
   "cell_type": "code",
   "execution_count": 57,
   "id": "2e6c9a37",
   "metadata": {},
   "outputs": [],
   "source": [
    "plt.style.use('ggplot')"
   ]
  },
  {
   "cell_type": "code",
   "execution_count": 58,
   "id": "b020d2ec",
   "metadata": {},
   "outputs": [
    {
     "name": "stdout",
     "output_type": "stream",
     "text": [
      "BoxPlots of the features:\n"
     ]
    },
    {
     "data": {
      "image/png": "[encoded data removed]",
      "text/plain": [
       "<Figure size 1200x600 with 5 Axes>"
      ]
     },
     "metadata": {},
     "output_type": "display_data"
    }
   ],
   "source": [
    "clist = ['fnlwgt','Age','capital-gain','capital-loss','hours-per-week']\n",
    "plt.figure(figsize = (12,6))\n",
    "for i in range(0, len(clist)):\n",
    "    plt.subplot(2,3, i+1)\n",
    "    sns.boxplot(ds[clist[i]], color = 'skyblue')\n",
    "print(\"BoxPlots of the features:\")\n",
    "plt.show()"
   ]
  },
  {
   "cell_type": "code",
   "execution_count": 59,
   "id": "315d2941",
   "metadata": {
    "scrolled": false
   },
   "outputs": [
    {
     "name": "stdout",
     "output_type": "stream",
     "text": [
      "(2, 2472)\n"
     ]
    },
    {
     "data": {
      "text/html": [
       "<div>\n",
       "<style scoped>\n",
       "    .dataframe tbody tr th:only-of-type {\n",
       "        vertical-align: middle;\n",
       "    }\n",
       "\n",
       "    .dataframe tbody tr th {\n",
       "        vertical-align: top;\n",
       "    }\n",
       "\n",
       "    .dataframe thead th {\n",
       "        text-align: right;\n",
       "    }\n",
       "</style>\n",
       "<table border=\"1\" class=\"dataframe\">\n",
       "  <thead>\n",
       "    <tr style=\"text-align: right;\">\n",
       "      <th></th>\n",
       "      <th>Age</th>\n",
       "      <th>fnlwgt</th>\n",
       "      <th>capital-gain</th>\n",
       "      <th>capital-loss</th>\n",
       "      <th>hours-per-week</th>\n",
       "      <th>income</th>\n",
       "      <th>workclass_enc</th>\n",
       "      <th>occupation_enc</th>\n",
       "      <th>education_enc</th>\n",
       "      <th>sex_enc</th>\n",
       "      <th>marital_enc</th>\n",
       "      <th>race_enc</th>\n",
       "      <th>relationship_enc</th>\n",
       "      <th>native_enc</th>\n",
       "    </tr>\n",
       "  </thead>\n",
       "  <tbody>\n",
       "    <tr>\n",
       "      <th>0</th>\n",
       "      <td>39</td>\n",
       "      <td>77516</td>\n",
       "      <td>2174</td>\n",
       "      <td>0</td>\n",
       "      <td>40</td>\n",
       "      <td>0</td>\n",
       "      <td>0.133626</td>\n",
       "      <td>0.115783</td>\n",
       "      <td>0.164461</td>\n",
       "      <td>0.669205</td>\n",
       "      <td>0.328092</td>\n",
       "      <td>0.854274</td>\n",
       "      <td>0.255060</td>\n",
       "      <td>0.913762</td>\n",
       "    </tr>\n",
       "    <tr>\n",
       "      <th>1</th>\n",
       "      <td>50</td>\n",
       "      <td>83311</td>\n",
       "      <td>0</td>\n",
       "      <td>0</td>\n",
       "      <td>13</td>\n",
       "      <td>0</td>\n",
       "      <td>0.112312</td>\n",
       "      <td>0.124873</td>\n",
       "      <td>0.164461</td>\n",
       "      <td>0.669205</td>\n",
       "      <td>0.473481</td>\n",
       "      <td>0.854274</td>\n",
       "      <td>0.405178</td>\n",
       "      <td>0.913762</td>\n",
       "    </tr>\n",
       "    <tr>\n",
       "      <th>2</th>\n",
       "      <td>38</td>\n",
       "      <td>215646</td>\n",
       "      <td>0</td>\n",
       "      <td>0</td>\n",
       "      <td>40</td>\n",
       "      <td>0</td>\n",
       "      <td>0.753417</td>\n",
       "      <td>0.042075</td>\n",
       "      <td>0.416326</td>\n",
       "      <td>0.669205</td>\n",
       "      <td>0.167931</td>\n",
       "      <td>0.854274</td>\n",
       "      <td>0.255060</td>\n",
       "      <td>0.913762</td>\n",
       "    </tr>\n",
       "    <tr>\n",
       "      <th>3</th>\n",
       "      <td>53</td>\n",
       "      <td>234721</td>\n",
       "      <td>0</td>\n",
       "      <td>0</td>\n",
       "      <td>40</td>\n",
       "      <td>0</td>\n",
       "      <td>0.753417</td>\n",
       "      <td>0.042075</td>\n",
       "      <td>0.416326</td>\n",
       "      <td>0.669205</td>\n",
       "      <td>0.473481</td>\n",
       "      <td>0.095943</td>\n",
       "      <td>0.405178</td>\n",
       "      <td>0.913762</td>\n",
       "    </tr>\n",
       "    <tr>\n",
       "      <th>4</th>\n",
       "      <td>28</td>\n",
       "      <td>338409</td>\n",
       "      <td>0</td>\n",
       "      <td>0</td>\n",
       "      <td>40</td>\n",
       "      <td>0</td>\n",
       "      <td>0.753417</td>\n",
       "      <td>0.183747</td>\n",
       "      <td>0.164461</td>\n",
       "      <td>0.330795</td>\n",
       "      <td>0.473481</td>\n",
       "      <td>0.095943</td>\n",
       "      <td>0.048156</td>\n",
       "      <td>0.002918</td>\n",
       "    </tr>\n",
       "    <tr>\n",
       "      <th>...</th>\n",
       "      <td>...</td>\n",
       "      <td>...</td>\n",
       "      <td>...</td>\n",
       "      <td>...</td>\n",
       "      <td>...</td>\n",
       "      <td>...</td>\n",
       "      <td>...</td>\n",
       "      <td>...</td>\n",
       "      <td>...</td>\n",
       "      <td>...</td>\n",
       "      <td>...</td>\n",
       "      <td>...</td>\n",
       "      <td>...</td>\n",
       "      <td>...</td>\n",
       "    </tr>\n",
       "    <tr>\n",
       "      <th>32556</th>\n",
       "      <td>27</td>\n",
       "      <td>257302</td>\n",
       "      <td>0</td>\n",
       "      <td>0</td>\n",
       "      <td>38</td>\n",
       "      <td>0</td>\n",
       "      <td>0.753417</td>\n",
       "      <td>0.028500</td>\n",
       "      <td>0.032769</td>\n",
       "      <td>0.330795</td>\n",
       "      <td>0.473481</td>\n",
       "      <td>0.854274</td>\n",
       "      <td>0.048156</td>\n",
       "      <td>0.913762</td>\n",
       "    </tr>\n",
       "    <tr>\n",
       "      <th>32557</th>\n",
       "      <td>40</td>\n",
       "      <td>154374</td>\n",
       "      <td>0</td>\n",
       "      <td>0</td>\n",
       "      <td>40</td>\n",
       "      <td>1</td>\n",
       "      <td>0.753417</td>\n",
       "      <td>0.061485</td>\n",
       "      <td>0.416326</td>\n",
       "      <td>0.669205</td>\n",
       "      <td>0.473481</td>\n",
       "      <td>0.854274</td>\n",
       "      <td>0.405178</td>\n",
       "      <td>0.913762</td>\n",
       "    </tr>\n",
       "    <tr>\n",
       "      <th>32558</th>\n",
       "      <td>58</td>\n",
       "      <td>151910</td>\n",
       "      <td>0</td>\n",
       "      <td>0</td>\n",
       "      <td>40</td>\n",
       "      <td>0</td>\n",
       "      <td>0.753417</td>\n",
       "      <td>0.115783</td>\n",
       "      <td>0.416326</td>\n",
       "      <td>0.330795</td>\n",
       "      <td>0.030497</td>\n",
       "      <td>0.854274</td>\n",
       "      <td>0.105832</td>\n",
       "      <td>0.913762</td>\n",
       "    </tr>\n",
       "    <tr>\n",
       "      <th>32559</th>\n",
       "      <td>22</td>\n",
       "      <td>201490</td>\n",
       "      <td>0</td>\n",
       "      <td>0</td>\n",
       "      <td>20</td>\n",
       "      <td>0</td>\n",
       "      <td>0.753417</td>\n",
       "      <td>0.115783</td>\n",
       "      <td>0.416326</td>\n",
       "      <td>0.669205</td>\n",
       "      <td>0.328092</td>\n",
       "      <td>0.854274</td>\n",
       "      <td>0.155646</td>\n",
       "      <td>0.913762</td>\n",
       "    </tr>\n",
       "    <tr>\n",
       "      <th>32560</th>\n",
       "      <td>52</td>\n",
       "      <td>287927</td>\n",
       "      <td>15024</td>\n",
       "      <td>0</td>\n",
       "      <td>40</td>\n",
       "      <td>1</td>\n",
       "      <td>0.112312</td>\n",
       "      <td>0.124873</td>\n",
       "      <td>0.416326</td>\n",
       "      <td>0.330795</td>\n",
       "      <td>0.473481</td>\n",
       "      <td>0.854274</td>\n",
       "      <td>0.048156</td>\n",
       "      <td>0.913762</td>\n",
       "    </tr>\n",
       "  </tbody>\n",
       "</table>\n",
       "<p>30135 rows × 14 columns</p>\n",
       "</div>"
      ],
      "text/plain": [
       "       Age  fnlwgt  capital-gain  capital-loss  hours-per-week  income  \\\n",
       "0       39   77516          2174             0              40       0   \n",
       "1       50   83311             0             0              13       0   \n",
       "2       38  215646             0             0              40       0   \n",
       "3       53  234721             0             0              40       0   \n",
       "4       28  338409             0             0              40       0   \n",
       "...    ...     ...           ...           ...             ...     ...   \n",
       "32556   27  257302             0             0              38       0   \n",
       "32557   40  154374             0             0              40       1   \n",
       "32558   58  151910             0             0              40       0   \n",
       "32559   22  201490             0             0              20       0   \n",
       "32560   52  287927         15024             0              40       1   \n",
       "\n",
       "       workclass_enc  occupation_enc  education_enc   sex_enc  marital_enc  \\\n",
       "0           0.133626        0.115783       0.164461  0.669205     0.328092   \n",
       "1           0.112312        0.124873       0.164461  0.669205     0.473481   \n",
       "2           0.753417        0.042075       0.416326  0.669205     0.167931   \n",
       "3           0.753417        0.042075       0.416326  0.669205     0.473481   \n",
       "4           0.753417        0.183747       0.164461  0.330795     0.473481   \n",
       "...              ...             ...            ...       ...          ...   \n",
       "32556       0.753417        0.028500       0.032769  0.330795     0.473481   \n",
       "32557       0.753417        0.061485       0.416326  0.669205     0.473481   \n",
       "32558       0.753417        0.115783       0.416326  0.330795     0.030497   \n",
       "32559       0.753417        0.115783       0.416326  0.669205     0.328092   \n",
       "32560       0.112312        0.124873       0.416326  0.330795     0.473481   \n",
       "\n",
       "       race_enc  relationship_enc  native_enc  \n",
       "0      0.854274          0.255060    0.913762  \n",
       "1      0.854274          0.405178    0.913762  \n",
       "2      0.854274          0.255060    0.913762  \n",
       "3      0.095943          0.405178    0.913762  \n",
       "4      0.095943          0.048156    0.002918  \n",
       "...         ...               ...         ...  \n",
       "32556  0.854274          0.048156    0.913762  \n",
       "32557  0.854274          0.405178    0.913762  \n",
       "32558  0.854274          0.105832    0.913762  \n",
       "32559  0.854274          0.155646    0.913762  \n",
       "32560  0.854274          0.048156    0.913762  \n",
       "\n",
       "[30135 rows x 14 columns]"
      ]
     },
     "execution_count": 59,
     "metadata": {},
     "output_type": "execute_result"
    }
   ],
   "source": [
    "from scipy.stats import zscore\n",
    "zabs = np.abs(zscore(ds.loc[:,'fnlwgt':'hours-per-week']))\n",
    "print(np.shape(np.where(zabs >= 3)))\n",
    "new_ds = ds[(zabs < 3).all(axis = 1)]\n",
    "new_ds"
   ]
  },
  {
   "cell_type": "code",
   "execution_count": 60,
   "id": "e0800c47",
   "metadata": {
    "scrolled": true
   },
   "outputs": [
    {
     "data": {
      "text/html": [
       "<div>\n",
       "<style scoped>\n",
       "    .dataframe tbody tr th:only-of-type {\n",
       "        vertical-align: middle;\n",
       "    }\n",
       "\n",
       "    .dataframe tbody tr th {\n",
       "        vertical-align: top;\n",
       "    }\n",
       "\n",
       "    .dataframe thead th {\n",
       "        text-align: right;\n",
       "    }\n",
       "</style>\n",
       "<table border=\"1\" class=\"dataframe\">\n",
       "  <thead>\n",
       "    <tr style=\"text-align: right;\">\n",
       "      <th></th>\n",
       "      <th>Age</th>\n",
       "      <th>fnlwgt</th>\n",
       "      <th>capital-gain</th>\n",
       "      <th>capital-loss</th>\n",
       "      <th>hours-per-week</th>\n",
       "      <th>income</th>\n",
       "      <th>workclass_enc</th>\n",
       "      <th>occupation_enc</th>\n",
       "      <th>education_enc</th>\n",
       "      <th>sex_enc</th>\n",
       "      <th>marital_enc</th>\n",
       "      <th>race_enc</th>\n",
       "      <th>relationship_enc</th>\n",
       "      <th>native_enc</th>\n",
       "    </tr>\n",
       "  </thead>\n",
       "  <tbody>\n",
       "    <tr>\n",
       "      <th>0</th>\n",
       "      <td>0.301370</td>\n",
       "      <td>0.132035</td>\n",
       "      <td>0.098639</td>\n",
       "      <td>0.0</td>\n",
       "      <td>0.493151</td>\n",
       "      <td>0</td>\n",
       "      <td>0.133626</td>\n",
       "      <td>0.115783</td>\n",
       "      <td>0.164461</td>\n",
       "      <td>0.669205</td>\n",
       "      <td>0.328092</td>\n",
       "      <td>0.854274</td>\n",
       "      <td>0.255060</td>\n",
       "      <td>0.913762</td>\n",
       "    </tr>\n",
       "    <tr>\n",
       "      <th>1</th>\n",
       "      <td>0.452055</td>\n",
       "      <td>0.143765</td>\n",
       "      <td>0.000000</td>\n",
       "      <td>0.0</td>\n",
       "      <td>0.123288</td>\n",
       "      <td>0</td>\n",
       "      <td>0.112312</td>\n",
       "      <td>0.124873</td>\n",
       "      <td>0.164461</td>\n",
       "      <td>0.669205</td>\n",
       "      <td>0.473481</td>\n",
       "      <td>0.854274</td>\n",
       "      <td>0.405178</td>\n",
       "      <td>0.913762</td>\n",
       "    </tr>\n",
       "    <tr>\n",
       "      <th>2</th>\n",
       "      <td>0.287671</td>\n",
       "      <td>0.411625</td>\n",
       "      <td>0.000000</td>\n",
       "      <td>0.0</td>\n",
       "      <td>0.493151</td>\n",
       "      <td>0</td>\n",
       "      <td>0.753417</td>\n",
       "      <td>0.042075</td>\n",
       "      <td>0.416326</td>\n",
       "      <td>0.669205</td>\n",
       "      <td>0.167931</td>\n",
       "      <td>0.854274</td>\n",
       "      <td>0.255060</td>\n",
       "      <td>0.913762</td>\n",
       "    </tr>\n",
       "    <tr>\n",
       "      <th>3</th>\n",
       "      <td>0.493151</td>\n",
       "      <td>0.450235</td>\n",
       "      <td>0.000000</td>\n",
       "      <td>0.0</td>\n",
       "      <td>0.493151</td>\n",
       "      <td>0</td>\n",
       "      <td>0.753417</td>\n",
       "      <td>0.042075</td>\n",
       "      <td>0.416326</td>\n",
       "      <td>0.669205</td>\n",
       "      <td>0.473481</td>\n",
       "      <td>0.095943</td>\n",
       "      <td>0.405178</td>\n",
       "      <td>0.913762</td>\n",
       "    </tr>\n",
       "    <tr>\n",
       "      <th>4</th>\n",
       "      <td>0.150685</td>\n",
       "      <td>0.660111</td>\n",
       "      <td>0.000000</td>\n",
       "      <td>0.0</td>\n",
       "      <td>0.493151</td>\n",
       "      <td>0</td>\n",
       "      <td>0.753417</td>\n",
       "      <td>0.183747</td>\n",
       "      <td>0.164461</td>\n",
       "      <td>0.330795</td>\n",
       "      <td>0.473481</td>\n",
       "      <td>0.095943</td>\n",
       "      <td>0.048156</td>\n",
       "      <td>0.002918</td>\n",
       "    </tr>\n",
       "    <tr>\n",
       "      <th>...</th>\n",
       "      <td>...</td>\n",
       "      <td>...</td>\n",
       "      <td>...</td>\n",
       "      <td>...</td>\n",
       "      <td>...</td>\n",
       "      <td>...</td>\n",
       "      <td>...</td>\n",
       "      <td>...</td>\n",
       "      <td>...</td>\n",
       "      <td>...</td>\n",
       "      <td>...</td>\n",
       "      <td>...</td>\n",
       "      <td>...</td>\n",
       "      <td>...</td>\n",
       "    </tr>\n",
       "    <tr>\n",
       "      <th>32556</th>\n",
       "      <td>0.136986</td>\n",
       "      <td>0.495942</td>\n",
       "      <td>0.000000</td>\n",
       "      <td>0.0</td>\n",
       "      <td>0.465753</td>\n",
       "      <td>0</td>\n",
       "      <td>0.753417</td>\n",
       "      <td>0.028500</td>\n",
       "      <td>0.032769</td>\n",
       "      <td>0.330795</td>\n",
       "      <td>0.473481</td>\n",
       "      <td>0.854274</td>\n",
       "      <td>0.048156</td>\n",
       "      <td>0.913762</td>\n",
       "    </tr>\n",
       "    <tr>\n",
       "      <th>32557</th>\n",
       "      <td>0.315068</td>\n",
       "      <td>0.287604</td>\n",
       "      <td>0.000000</td>\n",
       "      <td>0.0</td>\n",
       "      <td>0.493151</td>\n",
       "      <td>1</td>\n",
       "      <td>0.753417</td>\n",
       "      <td>0.061485</td>\n",
       "      <td>0.416326</td>\n",
       "      <td>0.669205</td>\n",
       "      <td>0.473481</td>\n",
       "      <td>0.854274</td>\n",
       "      <td>0.405178</td>\n",
       "      <td>0.913762</td>\n",
       "    </tr>\n",
       "    <tr>\n",
       "      <th>32558</th>\n",
       "      <td>0.561644</td>\n",
       "      <td>0.282617</td>\n",
       "      <td>0.000000</td>\n",
       "      <td>0.0</td>\n",
       "      <td>0.493151</td>\n",
       "      <td>0</td>\n",
       "      <td>0.753417</td>\n",
       "      <td>0.115783</td>\n",
       "      <td>0.416326</td>\n",
       "      <td>0.330795</td>\n",
       "      <td>0.030497</td>\n",
       "      <td>0.854274</td>\n",
       "      <td>0.105832</td>\n",
       "      <td>0.913762</td>\n",
       "    </tr>\n",
       "    <tr>\n",
       "      <th>32559</th>\n",
       "      <td>0.068493</td>\n",
       "      <td>0.382972</td>\n",
       "      <td>0.000000</td>\n",
       "      <td>0.0</td>\n",
       "      <td>0.219178</td>\n",
       "      <td>0</td>\n",
       "      <td>0.753417</td>\n",
       "      <td>0.115783</td>\n",
       "      <td>0.416326</td>\n",
       "      <td>0.669205</td>\n",
       "      <td>0.328092</td>\n",
       "      <td>0.854274</td>\n",
       "      <td>0.155646</td>\n",
       "      <td>0.913762</td>\n",
       "    </tr>\n",
       "    <tr>\n",
       "      <th>32560</th>\n",
       "      <td>0.479452</td>\n",
       "      <td>0.557930</td>\n",
       "      <td>0.681670</td>\n",
       "      <td>0.0</td>\n",
       "      <td>0.493151</td>\n",
       "      <td>1</td>\n",
       "      <td>0.112312</td>\n",
       "      <td>0.124873</td>\n",
       "      <td>0.416326</td>\n",
       "      <td>0.330795</td>\n",
       "      <td>0.473481</td>\n",
       "      <td>0.854274</td>\n",
       "      <td>0.048156</td>\n",
       "      <td>0.913762</td>\n",
       "    </tr>\n",
       "  </tbody>\n",
       "</table>\n",
       "<p>30135 rows × 14 columns</p>\n",
       "</div>"
      ],
      "text/plain": [
       "            Age    fnlwgt  capital-gain  capital-loss  hours-per-week  income  \\\n",
       "0      0.301370  0.132035      0.098639           0.0        0.493151       0   \n",
       "1      0.452055  0.143765      0.000000           0.0        0.123288       0   \n",
       "2      0.287671  0.411625      0.000000           0.0        0.493151       0   \n",
       "3      0.493151  0.450235      0.000000           0.0        0.493151       0   \n",
       "4      0.150685  0.660111      0.000000           0.0        0.493151       0   \n",
       "...         ...       ...           ...           ...             ...     ...   \n",
       "32556  0.136986  0.495942      0.000000           0.0        0.465753       0   \n",
       "32557  0.315068  0.287604      0.000000           0.0        0.493151       1   \n",
       "32558  0.561644  0.282617      0.000000           0.0        0.493151       0   \n",
       "32559  0.068493  0.382972      0.000000           0.0        0.219178       0   \n",
       "32560  0.479452  0.557930      0.681670           0.0        0.493151       1   \n",
       "\n",
       "       workclass_enc  occupation_enc  education_enc   sex_enc  marital_enc  \\\n",
       "0           0.133626        0.115783       0.164461  0.669205     0.328092   \n",
       "1           0.112312        0.124873       0.164461  0.669205     0.473481   \n",
       "2           0.753417        0.042075       0.416326  0.669205     0.167931   \n",
       "3           0.753417        0.042075       0.416326  0.669205     0.473481   \n",
       "4           0.753417        0.183747       0.164461  0.330795     0.473481   \n",
       "...              ...             ...            ...       ...          ...   \n",
       "32556       0.753417        0.028500       0.032769  0.330795     0.473481   \n",
       "32557       0.753417        0.061485       0.416326  0.669205     0.473481   \n",
       "32558       0.753417        0.115783       0.416326  0.330795     0.030497   \n",
       "32559       0.753417        0.115783       0.416326  0.669205     0.328092   \n",
       "32560       0.112312        0.124873       0.416326  0.330795     0.473481   \n",
       "\n",
       "       race_enc  relationship_enc  native_enc  \n",
       "0      0.854274          0.255060    0.913762  \n",
       "1      0.854274          0.405178    0.913762  \n",
       "2      0.854274          0.255060    0.913762  \n",
       "3      0.095943          0.405178    0.913762  \n",
       "4      0.095943          0.048156    0.002918  \n",
       "...         ...               ...         ...  \n",
       "32556  0.854274          0.048156    0.913762  \n",
       "32557  0.854274          0.405178    0.913762  \n",
       "32558  0.854274          0.105832    0.913762  \n",
       "32559  0.854274          0.155646    0.913762  \n",
       "32560  0.854274          0.048156    0.913762  \n",
       "\n",
       "[30135 rows x 14 columns]"
      ]
     },
     "execution_count": 60,
     "metadata": {},
     "output_type": "execute_result"
    }
   ],
   "source": [
    "from sklearn.preprocessing import MinMaxScaler\n",
    "scale = MinMaxScaler()\n",
    "new_ds.loc[:,'Age':'hours-per-week'] = scale.fit_transform(new_ds.loc[:,'Age':'hours-per-week'])\n",
    "new_ds"
   ]
  },
  {
   "cell_type": "code",
   "execution_count": 61,
   "id": "03d48a9a",
   "metadata": {},
   "outputs": [
    {
     "data": {
      "image/png": "[encoded data removed]",
      "text/plain": [
       "<Figure size 800x400 with 1 Axes>"
      ]
     },
     "metadata": {},
     "output_type": "display_data"
    }
   ],
   "source": [
    "plt.figure(figsize = (8, 4))\n",
    "plt.title(\"Values distribution in target class: Income\")\n",
    "sns.countplot(data = new_ds, x = 'income')\n",
    "plt.show()"
   ]
  },
  {
   "cell_type": "code",
   "execution_count": 62,
   "id": "2f771340",
   "metadata": {},
   "outputs": [],
   "source": [
    "from imblearn.combine import SMOTETomek\n",
    "x = new_ds.loc[:,\"Age\":\"hours-per-week\"]\n",
    "y = new_ds.loc[:,\"income\"]\n",
    "smk = SMOTETomek()\n",
    "x_new, y_new = smk.fit_resample(x, y)"
   ]
  },
  {
   "cell_type": "code",
   "execution_count": 63,
   "id": "d8ba842d",
   "metadata": {},
   "outputs": [
    {
     "data": {
      "image/png": "[encoded data removed]",
      "text/plain": [
       "<Figure size 800x400 with 1 Axes>"
      ]
     },
     "metadata": {},
     "output_type": "display_data"
    }
   ],
   "source": [
    "plt.figure(figsize = (8, 4))\n",
    "plt.title(\"Values in target class after using SMOTETomek\")\n",
    "sns.countplot(x = y_new)\n",
    "plt.show()"
   ]
  },
  {
   "cell_type": "code",
   "execution_count": 64,
   "id": "03ae2694",
   "metadata": {},
   "outputs": [
    {
     "name": "stdout",
     "output_type": "stream",
     "text": [
      "Best Random State is 28, 71.99559852236108\n"
     ]
    }
   ],
   "source": [
    "from sklearn.linear_model import LogisticRegression\n",
    "from sklearn.metrics import accuracy_score\n",
    "from sklearn.model_selection import train_test_split\n",
    "\n",
    "max_accuracy = 0\n",
    "best_rs = 0\n",
    "for i in range(1, 150):\n",
    "    x_train, x_test, y_train, y_test = train_test_split(x_new, y_new, test_size = 0.30, random_state = i)\n",
    "    lg = LogisticRegression()\n",
    "    lg.fit(x_train, y_train)\n",
    "    pred = lg.predict(x_test)\n",
    "    acc = accuracy_score(y_test, pred)\n",
    "    if acc > max_accuracy: # after each iteration, acc is replace by the best possible accuracy\n",
    "        max_accuracy = acc\n",
    "        best_rs = i\n",
    "print(f\"Best Random State is {best_rs}, {max_accuracy*100}\")"
   ]
  },
  {
   "cell_type": "markdown",
   "id": "8c2e9f10",
   "metadata": {},
   "source": [
    "# x_train, x_test, y_train, y_test = train_test_split(x_new, y_new, test_size = 0.30, random_state = 67)"
   ]
  },
  {
   "cell_type": "code",
   "execution_count": 65,
   "id": "146dd0c4",
   "metadata": {},
   "outputs": [],
   "source": [
    "from sklearn.linear_model import LogisticRegression\n",
    "from sklearn.ensemble import RandomForestClassifier\n",
    "from sklearn.tree import DecisionTreeClassifier\n",
    "from sklearn.ensemble import AdaBoostClassifier\n",
    "from sklearn.naive_bayes import MultinomialNB\n",
    "from sklearn.neighbors import KNeighborsClassifier\n",
    "from sklearn.svm import SVC"
   ]
  },
  {
   "cell_type": "code",
   "execution_count": 66,
   "id": "ef5f8c9a",
   "metadata": {},
   "outputs": [
    {
     "name": "stdout",
     "output_type": "stream",
     "text": [
      "Accuracy Score of Logistic Regression model is 71.17818124656135\n",
      "Accuracy Score of Decision Tree Classifier model is 84.64984673426079\n",
      "Accuracy Score of K-Nearest Neighbour Classifier model is 80.5706201367602\n",
      "Accuracy Score of Support Vector Classifier model is 73.78762870392202\n",
      "Accuracy Score of Random Forest model is 86.9134638057062\n",
      "Accuracy Score of MultinomialNB model is 59.309911184469065\n",
      "Accuracy Score of ADA Boost model is 75.40674369252535\n"
     ]
    }
   ],
   "source": [
    "# For Logistic Regression\n",
    "lg = LogisticRegression()\n",
    "lg.fit(x_train, y_train)\n",
    "pred_lg = lg.predict(x_test)\n",
    "print(\"Accuracy Score of Logistic Regression model is\", accuracy_score(y_test, pred_lg)*100)\n",
    "\n",
    "# For Decision Tree Classifier\n",
    "dtc = DecisionTreeClassifier()\n",
    "dtc.fit(x_train, y_train)\n",
    "pred_dtc = dtc.predict(x_test)\n",
    "print(\"Accuracy Score of Decision Tree Classifier model is\", accuracy_score(y_test, pred_dtc)*100)\n",
    "\n",
    "# For K-Nearest Neighbour Classifier\n",
    "knc = KNeighborsClassifier(n_neighbors = 5)\n",
    "knc.fit(x_train, y_train)\n",
    "pred_knc = knc.predict(x_test)\n",
    "print(\"Accuracy Score of K-Nearest Neighbour Classifier model is\", accuracy_score(y_test, pred_knc)*100)\n",
    "\n",
    "# For Support Vector Classifier\n",
    "svc = SVC(kernel = 'rbf')\n",
    "svc.fit(x_train, y_train)\n",
    "pred_svc = svc.predict(x_test)\n",
    "print(\"Accuracy Score of Support Vector Classifier model is\", accuracy_score(y_test, pred_svc)*100)\n",
    "\n",
    "# For Random Forest Classifier\n",
    "rfc = RandomForestClassifier()\n",
    "rfc.fit(x_train, y_train)\n",
    "pred_rfc = rfc.predict(x_test)\n",
    "print(\"Accuracy Score of Random Forest model is\", accuracy_score(y_test, pred_rfc)*100)\n",
    "\n",
    "# For MultinomialNB\n",
    "nb = MultinomialNB() # making the Multinomial Naive Bayes class\n",
    "nb.fit(x_train, y_train) # fitting the model\n",
    "pred_nb = nb.predict(x_test) # predicting the values\n",
    "print(\"Accuracy Score of MultinomialNB model is\", accuracy_score(y_test, pred_nb)*100)\n",
    "\n",
    "# For ADA Boost Classifier\n",
    "ada= AdaBoostClassifier()\n",
    "ada.fit(x_train, y_train) # fitting the model\n",
    "pred_ada = ada.predict(x_test) # predicting the values\n",
    "print(\"Accuracy Score of ADA Boost model is\", accuracy_score(y_test, pred_ada)*100)"
   ]
  },
  {
   "cell_type": "code",
   "execution_count": 67,
   "id": "173c7bf6",
   "metadata": {},
   "outputs": [
    {
     "name": "stdout",
     "output_type": "stream",
     "text": [
      "[0.70266447 0.71681207 0.71681207 0.69511908 0.70785192 0.70549399\n",
      " 0.71020986 0.70832351 0.7115566  0.70589623]\n",
      "Mean of accuracy scores is for Logistic Regression is 70.80739790811175\n",
      "\n",
      "[0.7769394  0.78684273 0.82504126 0.88988446 0.89082763 0.87974534\n",
      " 0.87974534 0.88398963 0.88490566 0.88773585]\n",
      "Mean of accuracy scores is for Decision Tree Classifier is 85.85657307594774\n",
      "\n",
      "[0.79957557 0.80523461 0.81065786 0.81773167 0.83070031 0.82409809\n",
      " 0.81395897 0.81985381 0.82830189 0.8254717 ]\n",
      "Mean of accuracy scores is for KNN Classifier is 81.75584478562816\n",
      "\n",
      "[0.73591134 0.74722943 0.73685452 0.73614714 0.73614714 0.73567555\n",
      " 0.73402499 0.72836595 0.73938679 0.72806604]\n",
      "Mean of accuracy scores is for SVC Classifier is 73.57808878290541\n",
      "\n",
      "[0.80806414 0.81961801 0.84484791 0.90827635 0.91841547 0.91252063\n",
      " 0.90426786 0.90874794 0.91226415 0.9129717 ]\n",
      "Mean of accuracy scores is for Random Forest Classifier is 88.49994160775537\n",
      "\n",
      "[0.59632162 0.60551757 0.60410281 0.58406036 0.59278472 0.59585004\n",
      " 0.58759726 0.58901203 0.58985849 0.60188679]\n",
      "Mean of accuracy scores is for MultinomialNB is 59.46991687168832\n",
      "\n",
      "[0.73803348 0.75453902 0.74699363 0.75100212 0.75713275 0.74439991\n",
      " 0.75453902 0.7481726  0.75872642 0.74174528]\n",
      "Mean of accuracy scores is for ADA Boost Classifier is 74.95284242324477\n",
      "\n"
     ]
    }
   ],
   "source": [
    "from sklearn.model_selection import cross_val_score\n",
    "\n",
    "lg_scores = cross_val_score(lg, x_new, y_new, cv = 10) # cross validating the model\n",
    "print(lg_scores) # accuracy scores of each cross validation cycle\n",
    "print(f\"Mean of accuracy scores is for Logistic Regression is {lg_scores.mean()*100}\\n\")\n",
    "\n",
    "dtc_scores = cross_val_score(dtc, x_new, y_new, cv = 10)\n",
    "print(dtc_scores)\n",
    "print(f\"Mean of accuracy scores is for Decision Tree Classifier is {dtc_scores.mean()*100}\\n\")\n",
    "\n",
    "knc_scores = cross_val_score(knc, x_new, y_new, cv = 10)\n",
    "print(knc_scores)\n",
    "print(f\"Mean of accuracy scores is for KNN Classifier is {knc_scores.mean()*100}\\n\")\n",
    "\n",
    "svc_scores = cross_val_score(svc, x_new, y_new, cv = 10)\n",
    "print(svc_scores)\n",
    "print(f\"Mean of accuracy scores is for SVC Classifier is {svc_scores.mean()*100}\\n\")\n",
    "\n",
    "rfc_scores = cross_val_score(rfc, x_new, y_new, cv = 10)\n",
    "print(rfc_scores)\n",
    "print(f\"Mean of accuracy scores is for Random Forest Classifier is {rfc_scores.mean()*100}\\n\")\n",
    "\n",
    "nb_scores = cross_val_score(nb, x_new, y_new, cv = 10)\n",
    "print(nb_scores)\n",
    "print(f\"Mean of accuracy scores is for MultinomialNB is {nb_scores.mean()*100}\\n\")\n",
    "\n",
    "ada_scores = cross_val_score(ada, x_new, y_new, cv = 10)\n",
    "print(ada_scores)\n",
    "print(f\"Mean of accuracy scores is for ADA Boost Classifier is {ada_scores.mean()*100}\\n\")"
   ]
  },
  {
   "cell_type": "code",
   "execution_count": 68,
   "id": "97159177",
   "metadata": {},
   "outputs": [
    {
     "name": "stdout",
     "output_type": "stream",
     "text": [
      "Logistic Regression 0.37078333844959843\n",
      "Decision Tree Classifier -1.2067263416869451\n",
      "KNeighbors Classifier -1.1852246488679583\n",
      "SVC 0.20953992101661356\n",
      "Random Forest Classifier -1.586477802049174\n",
      "MultinomialNB -0.1600056872192539\n",
      "ADA Boost Classifier 0.4539012692805784\n"
     ]
    }
   ],
   "source": [
    "# Checking for difference between accuracy and mean accuracies.\n",
    "lis3 = ['Logistic Regression','Decision Tree Classifier','KNeighbors Classifier','SVC', 'Random Forest Classifier', \n",
    "        'MultinomialNB', 'ADA Boost Classifier']\n",
    "\n",
    "lis1 = [accuracy_score(y_test, pred_lg)*100, accuracy_score(y_test, pred_dtc)*100, accuracy_score(y_test, pred_knc)*100, \n",
    "        accuracy_score(y_test, pred_svc)*100, accuracy_score(y_test, pred_rfc)*100, accuracy_score(y_test, pred_nb)*100,\n",
    "        accuracy_score(y_test, pred_ada)*100]\n",
    "\n",
    "lis2 = [lg_scores.mean()*100, dtc_scores.mean()*100, knc_scores.mean()*100, svc_scores.mean()*100, rfc_scores.mean()*100, \n",
    "        nb_scores.mean()*100, ada_scores.mean()*100]\n",
    "\n",
    "for i in range(0, 7):\n",
    "    dif = (lis1[i]) - (lis2[i])\n",
    "    print(lis3[i], dif)"
   ]
  },
  {
   "cell_type": "code",
   "execution_count": 69,
   "id": "e4863cd3",
   "metadata": {},
   "outputs": [
    {
     "name": "stdout",
     "output_type": "stream",
     "text": [
      "0.8614803588007411\n",
      "{'criterion': 'entropy', 'min_samples_split': 2, 'n_estimators': 100}\n"
     ]
    }
   ],
   "source": [
    "from sklearn.model_selection import GridSearchCV\n",
    "rfc = RandomForestClassifier()\n",
    "param = dict()\n",
    "param['criterion'] = ['gini', 'entropy']\n",
    "param['n_estimators'] = [1, 2, 4, 8, 10, 16, 32, 64, 100, 200]\n",
    "param['min_samples_split'] = [1,2,5,8,10,15,20,25,50,55,60,80,100]\n",
    "\n",
    "\n",
    "gs = GridSearchCV(estimator = rfc, param_grid = param, scoring='f1', cv = 5, n_jobs = 3)\n",
    "gs.fit(x_train, y_train)\n",
    "print(gs.best_score_)\n",
    "print(gs.best_params_)"
   ]
  },
  {
   "cell_type": "code",
   "execution_count": 70,
   "id": "686d7c30",
   "metadata": {},
   "outputs": [
    {
     "name": "stdout",
     "output_type": "stream",
     "text": [
      "0.9970355398349334\n"
     ]
    }
   ],
   "source": [
    "rfc = RandomForestClassifier(criterion = 'entropy', min_samples_split = 2, n_estimators = 100)\n",
    "rfc.fit(x_train, y_train)\n",
    "print(rfc.score(x_train, y_train))\n",
    "pred_rfc = rfc.predict(x_test)"
   ]
  },
  {
   "cell_type": "code",
   "execution_count": 71,
   "id": "0c253f3d",
   "metadata": {
    "scrolled": false
   },
   "outputs": [
    {
     "name": "stdout",
     "output_type": "stream",
     "text": [
      "Accuracy Score of RFC model is 87.10209856165999\n",
      "Confusion matrix for RFC Model is\n",
      "[[5486  883]\n",
      " [ 758 5596]]\n",
      "Classification Report of the RFC Model is\n",
      "              precision    recall  f1-score   support\n",
      "\n",
      "           0       0.88      0.86      0.87      6369\n",
      "           1       0.86      0.88      0.87      6354\n",
      "\n",
      "    accuracy                           0.87     12723\n",
      "   macro avg       0.87      0.87      0.87     12723\n",
      "weighted avg       0.87      0.87      0.87     12723\n",
      "\n"
     ]
    },
    {
     "data": {
      "image/png": "[encoded data removed]",
      "text/plain": [
       "<Figure size 640x480 with 1 Axes>"
      ]
     },
     "metadata": {},
     "output_type": "display_data"
    }
   ],
   "source": [
    "from sklearn.metrics import plot_roc_curve\n",
    "from sklearn.metrics import confusion_matrix, classification_report\n",
    "\n",
    "print(\"Accuracy Score of RFC model is\", accuracy_score(y_test, pred_rfc)*100)\n",
    "print(\"Confusion matrix for RFC Model is\")\n",
    "print(confusion_matrix(y_test, pred_rfc))\n",
    "print(\"Classification Report of the RFC Model is\")\n",
    "print(classification_report(y_test, pred_rfc))\n",
    "\n",
    "plot_roc_curve(rfc, x_test, y_test) # arg. are model name, feature testing data, label testing data.\n",
    "plt.title(\"Recevier's Operating Characteristic\")\n",
    "plt.xlabel(\"False Positive Rate\")\n",
    "plt.ylabel(\"True Positive Rate\")\n",
    "plt.show()"
   ]
  },
  {
   "cell_type": "code",
   "execution_count": null,
   "id": "ad378463",
   "metadata": {},
   "outputs": [],
   "source": []
  },
  {
   "cell_type": "code",
   "execution_count": null,
   "id": "be79fd03",
   "metadata": {},
   "outputs": [],
   "source": []
  }
 ],
 "metadata": {
  "kernelspec": {
   "display_name": "Python 3",
   "language": "python",
   "name": "python3"
  },
  "language_info": {
   "codemirror_mode": {
    "name": "ipython",
    "version": 3
   },
   "file_extension": ".py",
   "mimetype": "text/x-python",
   "name": "python",
   "nbconvert_exporter": "python",
   "pygments_lexer": "ipython3",
   "version": "3.8.8"
  }
 },
 "nbformat": 4,
 "nbformat_minor": 5
}
